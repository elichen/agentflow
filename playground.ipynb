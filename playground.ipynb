{
 "cells": [
  {
   "cell_type": "code",
   "execution_count": 36,
   "id": "7ea06646",
   "metadata": {},
   "outputs": [
    {
     "name": "stdout",
     "output_type": "stream",
     "text": [
      "The autoreload extension is already loaded. To reload it, use:\n",
      "  %reload_ext autoreload\n"
     ]
    }
   ],
   "source": [
    "%load_ext autoreload\n",
    "%autoreload 2\n",
    "from slack import SlackInteractor\n",
    "from llm import LLMInteractor\n",
    "from runner import process_threads, execute_due_actions"
   ]
  },
  {
   "cell_type": "code",
   "execution_count": 37,
   "id": "f2a392b8",
   "metadata": {},
   "outputs": [],
   "source": [
    "interactor = SlackInteractor()\n",
    "llm_interactor = LLMInteractor()"
   ]
  },
  {
   "cell_type": "code",
   "execution_count": 38,
   "id": "f445a8d2",
   "metadata": {},
   "outputs": [
    {
     "name": "stdout",
     "output_type": "stream",
     "text": [
      "\n",
      "Fetching new messages...\n",
      "Set conversations_oldest to 1722399936.894109\n",
      "Loaded 129 old messages\n",
      "Found 1 new messages\n",
      "Updated complete_conversations.pkl with new messages\n",
      "Found 1 threads with new messages.\n",
      "\n",
      "==================================================\n",
      "Processing thread in channel: general\n",
      "Thread timestamp: 2024-08-08 21:05:30.984519005\n",
      "Last message content:\n",
      "Hey everyone! :date: Let's get together for the offsite planning meeting this Monday at 10am. I'll send out a calendar invite shortly so we're all on the same page. :+1:\n",
      "Debug - Added action due at: 2024-08-08 23:38:47.940661\n",
      "Debug - Total new actions identified: 1\n",
      "\n",
      "Raw LLM Response:\n",
      "{\n",
      "    \"action\": {\n",
      "        \"description\": \"Send out a calendar invite for the offsite planning meeting on Monday at 10am\",\n",
      "        \"execution_time\": \"5 minutes\"\n",
      "    }\n",
      "}\n",
      "\n",
      "New actions identified: Send out a calendar invite for the offsite planning meeting on Monday at 10am (Execute at: 2024-08-08 23:38:47.940661)\n",
      "==================================================\n",
      "\n",
      "\n",
      "Checking for due actions...\n"
     ]
    }
   ],
   "source": [
    "print(\"\\nFetching new messages...\")\n",
    "data = interactor.fetch_new_messages()\n",
    "threads = interactor.organize_threads(data)\n",
    "print(f\"Found {len(threads)} threads with new messages.\")\n",
    "\n",
    "results = process_threads(interactor, llm_interactor, threads)\n",
    "\n",
    "print(\"\\nChecking for due actions...\")\n",
    "execute_due_actions(interactor, llm_interactor)\n"
   ]
  },
  {
   "cell_type": "code",
   "execution_count": null,
   "id": "276ff717",
   "metadata": {},
   "outputs": [],
   "source": []
  }
 ],
 "metadata": {
  "kernelspec": {
   "display_name": "Python 3 (ipykernel)",
   "language": "python",
   "name": "python3"
  },
  "language_info": {
   "codemirror_mode": {
    "name": "ipython",
    "version": 3
   },
   "file_extension": ".py",
   "mimetype": "text/x-python",
   "name": "python",
   "nbconvert_exporter": "python",
   "pygments_lexer": "ipython3",
   "version": "3.10.12"
  }
 },
 "nbformat": 4,
 "nbformat_minor": 5
}
