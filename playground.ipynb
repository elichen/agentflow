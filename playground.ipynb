{
 "cells": [
  {
   "cell_type": "code",
   "execution_count": 103,
   "id": "7ea06646",
   "metadata": {},
   "outputs": [
    {
     "name": "stdout",
     "output_type": "stream",
     "text": [
      "The autoreload extension is already loaded. To reload it, use:\n",
      "  %reload_ext autoreload\n"
     ]
    }
   ],
   "source": [
    "%load_ext autoreload\n",
    "%autoreload 2\n",
    "from slack import SlackInteractor"
   ]
  },
  {
   "cell_type": "code",
   "execution_count": 135,
   "id": "f4d2c5dc",
   "metadata": {},
   "outputs": [
    {
     "name": "stdout",
     "output_type": "stream",
     "text": [
      "Set conversations_oldest to 1722399936.894109\n",
      "Loaded 18 old messages\n",
      "Found 2 new messages\n",
      "Updated complete_conversations.pkl with new messages\n"
     ]
    }
   ],
   "source": [
    "interactor = SlackInteractor()\n",
    "data = interactor.fetch_new_messages()"
   ]
  },
  {
   "cell_type": "code",
   "execution_count": 137,
   "id": "8b19decb",
   "metadata": {},
   "outputs": [
    {
     "data": {
      "text/plain": [
       "[{'channel': 'general',\n",
       "  'thread_ts': Timestamp('2024-07-31 23:08:19.263428926'),\n",
       "  'messages': [{'ts': Timestamp('2024-07-31 23:08:19.263428926'),\n",
       "    'user': 'Agentflow2',\n",
       "    'text': 'Hello, World!',\n",
       "    'is_bot': True},\n",
       "   {'ts': Timestamp('2024-08-01 21:36:02.806229115'),\n",
       "    'user': 'Eli.chen',\n",
       "    'text': 'msg 2',\n",
       "    'is_bot': False},\n",
       "   {'ts': Timestamp('2024-08-01 21:36:04.156348944'),\n",
       "    'user': 'Eli.chen',\n",
       "    'text': 'msg 3',\n",
       "    'is_bot': False},\n",
       "   {'ts': Timestamp('2024-08-01 21:36:52.764959097'),\n",
       "    'user': 'Eli.chen',\n",
       "    'text': 'msg 4',\n",
       "    'is_bot': False},\n",
       "   {'ts': Timestamp('2024-08-01 21:44:57.960489035'),\n",
       "    'user': 'Eli.chen',\n",
       "    'text': 'msg 5',\n",
       "    'is_bot': False},\n",
       "   {'ts': Timestamp('2024-08-01 21:46:06.320808887'),\n",
       "    'user': 'Eli.chen',\n",
       "    'text': 'msg 6',\n",
       "    'is_bot': False},\n",
       "   {'ts': Timestamp('2024-08-01 21:47:40.985599041'),\n",
       "    'user': 'Eli.chen',\n",
       "    'text': 'msg 7',\n",
       "    'is_bot': False},\n",
       "   {'ts': Timestamp('2024-08-01 21:52:33.574429035'),\n",
       "    'user': 'Eli.chen',\n",
       "    'text': 'msg 8',\n",
       "    'is_bot': False},\n",
       "   {'ts': Timestamp('2024-08-01 21:53:01.920149088'),\n",
       "    'user': 'Eli.chen',\n",
       "    'text': 'msg 9',\n",
       "    'is_bot': False}]},\n",
       " {'channel': 'general',\n",
       "  'thread_ts': Timestamp('2024-08-01 21:30:47.076678991'),\n",
       "  'messages': [{'ts': Timestamp('2024-08-01 21:30:47.076678991'),\n",
       "    'user': 'Eli.chen',\n",
       "    'text': 'hello 2',\n",
       "    'is_bot': False},\n",
       "   {'ts': Timestamp('2024-08-01 21:53:12.864598989'),\n",
       "    'user': 'Eli.chen',\n",
       "    'text': 'msg 1',\n",
       "    'is_bot': False}]}]"
      ]
     },
     "execution_count": 137,
     "metadata": {},
     "output_type": "execute_result"
    }
   ],
   "source": [
    "interactor.organize_threads(data)"
   ]
  },
  {
   "cell_type": "code",
   "execution_count": 78,
   "id": "3bc6b96a",
   "metadata": {},
   "outputs": [
    {
     "data": {
      "text/html": [
       "<div>\n",
       "<style scoped>\n",
       "    .dataframe tbody tr th:only-of-type {\n",
       "        vertical-align: middle;\n",
       "    }\n",
       "\n",
       "    .dataframe tbody tr th {\n",
       "        vertical-align: top;\n",
       "    }\n",
       "\n",
       "    .dataframe thead th {\n",
       "        text-align: right;\n",
       "    }\n",
       "</style>\n",
       "<table border=\"1\" class=\"dataframe\">\n",
       "  <thead>\n",
       "    <tr style=\"text-align: right;\">\n",
       "      <th></th>\n",
       "      <th>max_len</th>\n",
       "      <th>total_length</th>\n",
       "      <th>total_messages</th>\n",
       "      <th>average_message_size</th>\n",
       "    </tr>\n",
       "    <tr>\n",
       "      <th>user_name</th>\n",
       "      <th></th>\n",
       "      <th></th>\n",
       "      <th></th>\n",
       "      <th></th>\n",
       "    </tr>\n",
       "  </thead>\n",
       "  <tbody>\n",
       "  </tbody>\n",
       "</table>\n",
       "</div>"
      ],
      "text/plain": [
       "Empty DataFrame\n",
       "Columns: [max_len, total_length, total_messages, average_message_size]\n",
       "Index: []"
      ]
     },
     "execution_count": 78,
     "metadata": {},
     "output_type": "execute_result"
    }
   ],
   "source": [
    "interactor.get_conversation_stats(data)"
   ]
  },
  {
   "cell_type": "code",
   "execution_count": 136,
   "id": "c904dd29",
   "metadata": {},
   "outputs": [
    {
     "data": {
      "text/html": [
       "<div>\n",
       "<style scoped>\n",
       "    .dataframe tbody tr th:only-of-type {\n",
       "        vertical-align: middle;\n",
       "    }\n",
       "\n",
       "    .dataframe tbody tr th {\n",
       "        vertical-align: top;\n",
       "    }\n",
       "\n",
       "    .dataframe thead th {\n",
       "        text-align: right;\n",
       "    }\n",
       "</style>\n",
       "<table border=\"1\" class=\"dataframe\">\n",
       "  <thead>\n",
       "    <tr style=\"text-align: right;\">\n",
       "      <th></th>\n",
       "      <th>type</th>\n",
       "      <th>subtype</th>\n",
       "      <th>ts</th>\n",
       "      <th>user</th>\n",
       "      <th>thread_ts</th>\n",
       "      <th>text</th>\n",
       "      <th>channel_id</th>\n",
       "      <th>text_clean</th>\n",
       "      <th>text_len</th>\n",
       "      <th>user_name</th>\n",
       "      <th>is_bot</th>\n",
       "      <th>channel_name</th>\n",
       "    </tr>\n",
       "  </thead>\n",
       "  <tbody>\n",
       "    <tr>\n",
       "      <th>0</th>\n",
       "      <td>message</td>\n",
       "      <td>NaN</td>\n",
       "      <td>2024-08-01 21:53:12.864598989</td>\n",
       "      <td>U07EU2TQ6HG</td>\n",
       "      <td>2024-08-01 21:30:47.076678991</td>\n",
       "      <td>msg 1</td>\n",
       "      <td>C07EWH2GX7W</td>\n",
       "      <td>msg 1</td>\n",
       "      <td>5</td>\n",
       "      <td>Eli.chen</td>\n",
       "      <td>False</td>\n",
       "      <td>general</td>\n",
       "    </tr>\n",
       "    <tr>\n",
       "      <th>1</th>\n",
       "      <td>message</td>\n",
       "      <td>NaN</td>\n",
       "      <td>2024-08-01 21:53:01.920149088</td>\n",
       "      <td>U07EU2TQ6HG</td>\n",
       "      <td>2024-07-31 23:08:19.263428926</td>\n",
       "      <td>msg 9</td>\n",
       "      <td>C07EWH2GX7W</td>\n",
       "      <td>msg 9</td>\n",
       "      <td>5</td>\n",
       "      <td>Eli.chen</td>\n",
       "      <td>False</td>\n",
       "      <td>general</td>\n",
       "    </tr>\n",
       "  </tbody>\n",
       "</table>\n",
       "</div>"
      ],
      "text/plain": [
       "      type subtype                            ts         user  \\\n",
       "0  message     NaN 2024-08-01 21:53:12.864598989  U07EU2TQ6HG   \n",
       "1  message     NaN 2024-08-01 21:53:01.920149088  U07EU2TQ6HG   \n",
       "\n",
       "                      thread_ts   text   channel_id text_clean  text_len  \\\n",
       "0 2024-08-01 21:30:47.076678991  msg 1  C07EWH2GX7W      msg 1         5   \n",
       "1 2024-07-31 23:08:19.263428926  msg 9  C07EWH2GX7W      msg 9         5   \n",
       "\n",
       "  user_name  is_bot channel_name  \n",
       "0  Eli.chen   False      general  \n",
       "1  Eli.chen   False      general  "
      ]
     },
     "execution_count": 136,
     "metadata": {},
     "output_type": "execute_result"
    }
   ],
   "source": [
    "data"
   ]
  },
  {
   "cell_type": "code",
   "execution_count": 33,
   "id": "3ca52bc5",
   "metadata": {},
   "outputs": [
    {
     "data": {
      "text/plain": [
       "<slack_sdk.web.slack_response.SlackResponse at 0x7f6d73cb83a0>"
      ]
     },
     "execution_count": 33,
     "metadata": {},
     "output_type": "execute_result"
    }
   ],
   "source": [
    "interactor.post_message('general', 'Hello, World!')"
   ]
  }
 ],
 "metadata": {
  "kernelspec": {
   "display_name": "Python 3 (ipykernel)",
   "language": "python",
   "name": "python3"
  },
  "language_info": {
   "codemirror_mode": {
    "name": "ipython",
    "version": 3
   },
   "file_extension": ".py",
   "mimetype": "text/x-python",
   "name": "python",
   "nbconvert_exporter": "python",
   "pygments_lexer": "ipython3",
   "version": "3.10.12"
  }
 },
 "nbformat": 4,
 "nbformat_minor": 5
}
