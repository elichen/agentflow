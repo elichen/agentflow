{
 "cells": [
  {
   "cell_type": "code",
   "execution_count": 9,
   "id": "7ea06646",
   "metadata": {},
   "outputs": [
    {
     "name": "stdout",
     "output_type": "stream",
     "text": [
      "The autoreload extension is already loaded. To reload it, use:\n",
      "  %reload_ext autoreload\n"
     ]
    }
   ],
   "source": [
    "%load_ext autoreload\n",
    "%autoreload 2\n",
    "from slack import SlackInteractor\n",
    "from llm import LLMInteractor"
   ]
  },
  {
   "cell_type": "code",
   "execution_count": 54,
   "id": "f4d2c5dc",
   "metadata": {},
   "outputs": [
    {
     "name": "stdout",
     "output_type": "stream",
     "text": [
      "Set conversations_oldest to 1722399936.894109\n",
      "Loaded 25 old messages\n",
      "Found 2 new messages\n",
      "Updated complete_conversations.pkl with new messages\n"
     ]
    }
   ],
   "source": [
    "interactor = SlackInteractor()\n",
    "data = interactor.fetch_new_messages()"
   ]
  },
  {
   "cell_type": "code",
   "execution_count": 55,
   "id": "57980e4a",
   "metadata": {},
   "outputs": [],
   "source": [
    "threads = interactor.organize_threads(data)"
   ]
  },
  {
   "cell_type": "code",
   "execution_count": 56,
   "id": "3bc6b96a",
   "metadata": {},
   "outputs": [
    {
     "data": {
      "text/html": [
       "<div>\n",
       "<style scoped>\n",
       "    .dataframe tbody tr th:only-of-type {\n",
       "        vertical-align: middle;\n",
       "    }\n",
       "\n",
       "    .dataframe tbody tr th {\n",
       "        vertical-align: top;\n",
       "    }\n",
       "\n",
       "    .dataframe thead th {\n",
       "        text-align: right;\n",
       "    }\n",
       "</style>\n",
       "<table border=\"1\" class=\"dataframe\">\n",
       "  <thead>\n",
       "    <tr style=\"text-align: right;\">\n",
       "      <th></th>\n",
       "      <th>max_len</th>\n",
       "      <th>total_length</th>\n",
       "      <th>total_messages</th>\n",
       "      <th>average_message_size</th>\n",
       "    </tr>\n",
       "    <tr>\n",
       "      <th>user_name</th>\n",
       "      <th></th>\n",
       "      <th></th>\n",
       "      <th></th>\n",
       "      <th></th>\n",
       "    </tr>\n",
       "  </thead>\n",
       "  <tbody>\n",
       "    <tr>\n",
       "      <th>Eli.chen</th>\n",
       "      <td>20</td>\n",
       "      <td>37</td>\n",
       "      <td>2</td>\n",
       "      <td>18.5</td>\n",
       "    </tr>\n",
       "  </tbody>\n",
       "</table>\n",
       "</div>"
      ],
      "text/plain": [
       "           max_len  total_length  total_messages  average_message_size\n",
       "user_name                                                             \n",
       "Eli.chen        20            37               2                  18.5"
      ]
     },
     "execution_count": 56,
     "metadata": {},
     "output_type": "execute_result"
    }
   ],
   "source": [
    "interactor.get_conversation_stats(data)"
   ]
  },
  {
   "cell_type": "code",
   "execution_count": 57,
   "id": "8c2ba3a1",
   "metadata": {},
   "outputs": [
    {
     "data": {
      "text/plain": [
       "{'channel': 'general',\n",
       " 'thread_ts': Timestamp('2024-08-02 20:54:23.551868916'),\n",
       " 'messages': [{'ts': Timestamp('2024-08-02 20:54:23.551868916'),\n",
       "   'user': 'Eli.chen',\n",
       "   'text': \"what's a burrito?\",\n",
       "   'is_bot': False,\n",
       "   'minutes_ago': 0}]}"
      ]
     },
     "execution_count": 57,
     "metadata": {},
     "output_type": "execute_result"
    }
   ],
   "source": [
    "threads[0]"
   ]
  },
  {
   "cell_type": "code",
   "execution_count": 45,
   "id": "20785dd6",
   "metadata": {},
   "outputs": [
    {
     "data": {
      "text/plain": [
       "\"Hello Eli! It's nice to meet you. How can I assist you today? Feel free to ask any questions or let me know if there's anything specific you'd like to discuss.\""
      ]
     },
     "execution_count": 45,
     "metadata": {},
     "output_type": "execute_result"
    }
   ],
   "source": [
    "from pandas import Timestamp\n",
    "\n",
    "llm_interactor = LLMInteractor()\n",
    "thread = {'channel': 'general',\n",
    "  'thread_ts': Timestamp('2024-08-01 23:18:53.991878986'),\n",
    "  'messages': [{'ts': Timestamp('2024-08-01 23:18:53.991878986'),\n",
    "    'user': 'Eli.chen',\n",
    "    'text': 'hello everyone. my name is Eli',\n",
    "    'is_bot': False,\n",
    "    'minutes_ago': 153}]}\n",
    "# thread = threads[0]\n",
    "guideline_prompt = \"Please provide a helpful and concise response to the conversation above.\"\n",
    "response = llm_interactor.generate_thread_response(thread, guideline_prompt)\n",
    "response"
   ]
  },
  {
   "cell_type": "code",
   "execution_count": 58,
   "id": "f445a8d2",
   "metadata": {},
   "outputs": [
    {
     "name": "stdout",
     "output_type": "stream",
     "text": [
      "Posted reply to thread 1722632063.551869 in channel general\n",
      "Posted reply to thread 1722632067.855989 in channel general\n"
     ]
    }
   ],
   "source": [
    "for thread in threads:\n",
    "    if not thread['messages'][-1]['is_bot']:\n",
    "        response = llm_interactor.generate_thread_response(thread, guideline_prompt)\n",
    "        interactor.post_thread_reply(thread, response)"
   ]
  }
 ],
 "metadata": {
  "kernelspec": {
   "display_name": "Python 3 (ipykernel)",
   "language": "python",
   "name": "python3"
  },
  "language_info": {
   "codemirror_mode": {
    "name": "ipython",
    "version": 3
   },
   "file_extension": ".py",
   "mimetype": "text/x-python",
   "name": "python",
   "nbconvert_exporter": "python",
   "pygments_lexer": "ipython3",
   "version": "3.10.12"
  }
 },
 "nbformat": 4,
 "nbformat_minor": 5
}
