{
 "cells": [
  {
   "cell_type": "code",
   "execution_count": 1,
   "id": "7ea06646",
   "metadata": {},
   "outputs": [],
   "source": [
    "%load_ext autoreload\n",
    "%autoreload 2\n",
    "from slack import SlackInteractor"
   ]
  },
  {
   "cell_type": "code",
   "execution_count": 45,
   "id": "f4d2c5dc",
   "metadata": {},
   "outputs": [
    {
     "name": "stdout",
     "output_type": "stream",
     "text": [
      "No threads found in old_messages\n",
      "Loaded 3 old messages\n"
     ]
    },
    {
     "name": "stderr",
     "output_type": "stream",
     "text": [
      "0it [00:00, ?it/s]"
     ]
    },
    {
     "name": "stdout",
     "output_type": "stream",
     "text": [
      "Saved 10 messages to complete_conversations.pkl\n"
     ]
    },
    {
     "name": "stderr",
     "output_type": "stream",
     "text": [
      "\n"
     ]
    }
   ],
   "source": [
    "interactor = SlackInteractor()\n",
    "data = interactor.fetch_all_data()  # This will load old messages, fetch new ones, and save the combined result"
   ]
  },
  {
   "cell_type": "code",
   "execution_count": 46,
   "id": "3bc6b96a",
   "metadata": {},
   "outputs": [
    {
     "data": {
      "text/html": [
       "<div>\n",
       "<style scoped>\n",
       "    .dataframe tbody tr th:only-of-type {\n",
       "        vertical-align: middle;\n",
       "    }\n",
       "\n",
       "    .dataframe tbody tr th {\n",
       "        vertical-align: top;\n",
       "    }\n",
       "\n",
       "    .dataframe thead th {\n",
       "        text-align: right;\n",
       "    }\n",
       "</style>\n",
       "<table border=\"1\" class=\"dataframe\">\n",
       "  <thead>\n",
       "    <tr style=\"text-align: right;\">\n",
       "      <th></th>\n",
       "      <th>max_len</th>\n",
       "      <th>total_length</th>\n",
       "      <th>total_messages</th>\n",
       "      <th>average_message_size</th>\n",
       "    </tr>\n",
       "    <tr>\n",
       "      <th>user_name</th>\n",
       "      <th></th>\n",
       "      <th></th>\n",
       "      <th></th>\n",
       "      <th></th>\n",
       "    </tr>\n",
       "  </thead>\n",
       "  <tbody>\n",
       "    <tr>\n",
       "      <th>Agentflow2</th>\n",
       "      <td>23</td>\n",
       "      <td>62</td>\n",
       "      <td>4</td>\n",
       "      <td>15.5</td>\n",
       "    </tr>\n",
       "    <tr>\n",
       "      <th>Eli.chen</th>\n",
       "      <td>23</td>\n",
       "      <td>81</td>\n",
       "      <td>6</td>\n",
       "      <td>13.5</td>\n",
       "    </tr>\n",
       "  </tbody>\n",
       "</table>\n",
       "</div>"
      ],
      "text/plain": [
       "            max_len  total_length  total_messages  average_message_size\n",
       "user_name                                                              \n",
       "Agentflow2       23            62               4                  15.5\n",
       "Eli.chen         23            81               6                  13.5"
      ]
     },
     "execution_count": 46,
     "metadata": {},
     "output_type": "execute_result"
    }
   ],
   "source": [
    "interactor.get_conversation_stats(data)"
   ]
  },
  {
   "cell_type": "code",
   "execution_count": 33,
   "id": "3ca52bc5",
   "metadata": {},
   "outputs": [
    {
     "data": {
      "text/plain": [
       "<slack_sdk.web.slack_response.SlackResponse at 0x7f6d73cb83a0>"
      ]
     },
     "execution_count": 33,
     "metadata": {},
     "output_type": "execute_result"
    }
   ],
   "source": [
    "interactor.post_message('general', 'Hello, World!')"
   ]
  },
  {
   "cell_type": "code",
   "execution_count": 44,
   "id": "c904dd29",
   "metadata": {},
   "outputs": [
    {
     "data": {
      "text/html": [
       "<div>\n",
       "<style scoped>\n",
       "    .dataframe tbody tr th:only-of-type {\n",
       "        vertical-align: middle;\n",
       "    }\n",
       "\n",
       "    .dataframe tbody tr th {\n",
       "        vertical-align: top;\n",
       "    }\n",
       "\n",
       "    .dataframe thead th {\n",
       "        text-align: right;\n",
       "    }\n",
       "</style>\n",
       "<table border=\"1\" class=\"dataframe\">\n",
       "  <thead>\n",
       "    <tr style=\"text-align: right;\">\n",
       "      <th></th>\n",
       "      <th>ts</th>\n",
       "      <th>user</th>\n",
       "      <th>thread_ts</th>\n",
       "      <th>text</th>\n",
       "      <th>channel_id</th>\n",
       "      <th>text_clean</th>\n",
       "      <th>text_len</th>\n",
       "      <th>user_name</th>\n",
       "      <th>channel_name</th>\n",
       "    </tr>\n",
       "  </thead>\n",
       "  <tbody>\n",
       "    <tr>\n",
       "      <th>0</th>\n",
       "      <td>2024-08-01 17:51:13.529489039</td>\n",
       "      <td>U07EU2TQ6HG</td>\n",
       "      <td>NaT</td>\n",
       "      <td>hi 2</td>\n",
       "      <td>C07EWH2GX7W</td>\n",
       "      <td>hi 2</td>\n",
       "      <td>4</td>\n",
       "      <td>Eli.chen</td>\n",
       "      <td>general</td>\n",
       "    </tr>\n",
       "    <tr>\n",
       "      <th>1</th>\n",
       "      <td>2024-07-31 23:07:08.356848955</td>\n",
       "      <td>U07EU2TQ6HG</td>\n",
       "      <td>NaT</td>\n",
       "      <td>hi</td>\n",
       "      <td>C07EWH2GX7W</td>\n",
       "      <td>hi</td>\n",
       "      <td>2</td>\n",
       "      <td>Eli.chen</td>\n",
       "      <td>general</td>\n",
       "    </tr>\n",
       "    <tr>\n",
       "      <th>2</th>\n",
       "      <td>2024-07-31 22:48:48.139799118</td>\n",
       "      <td>U07EU2TQ6HG</td>\n",
       "      <td>NaT</td>\n",
       "      <td>hello!</td>\n",
       "      <td>C07EWH2GX7W</td>\n",
       "      <td>hello!</td>\n",
       "      <td>6</td>\n",
       "      <td>Eli.chen</td>\n",
       "      <td>general</td>\n",
       "    </tr>\n",
       "  </tbody>\n",
       "</table>\n",
       "</div>"
      ],
      "text/plain": [
       "                             ts         user thread_ts    text   channel_id  \\\n",
       "0 2024-08-01 17:51:13.529489039  U07EU2TQ6HG       NaT    hi 2  C07EWH2GX7W   \n",
       "1 2024-07-31 23:07:08.356848955  U07EU2TQ6HG       NaT      hi  C07EWH2GX7W   \n",
       "2 2024-07-31 22:48:48.139799118  U07EU2TQ6HG       NaT  hello!  C07EWH2GX7W   \n",
       "\n",
       "  text_clean  text_len user_name channel_name  \n",
       "0       hi 2         4  Eli.chen      general  \n",
       "1         hi         2  Eli.chen      general  \n",
       "2     hello!         6  Eli.chen      general  "
      ]
     },
     "execution_count": 44,
     "metadata": {},
     "output_type": "execute_result"
    }
   ],
   "source": [
    "data"
   ]
  }
 ],
 "metadata": {
  "kernelspec": {
   "display_name": "Python 3 (ipykernel)",
   "language": "python",
   "name": "python3"
  },
  "language_info": {
   "codemirror_mode": {
    "name": "ipython",
    "version": 3
   },
   "file_extension": ".py",
   "mimetype": "text/x-python",
   "name": "python",
   "nbconvert_exporter": "python",
   "pygments_lexer": "ipython3",
   "version": "3.10.12"
  }
 },
 "nbformat": 4,
 "nbformat_minor": 5
}
