{
 "cells": [
  {
   "cell_type": "code",
   "execution_count": 5,
   "id": "7ea06646",
   "metadata": {},
   "outputs": [
    {
     "name": "stdout",
     "output_type": "stream",
     "text": [
      "The autoreload extension is already loaded. To reload it, use:\n",
      "  %reload_ext autoreload\n"
     ]
    }
   ],
   "source": [
    "%load_ext autoreload\n",
    "%autoreload 2"
   ]
  },
  {
   "cell_type": "code",
   "execution_count": 6,
   "id": "48188838",
   "metadata": {},
   "outputs": [],
   "source": [
    "from slack import SlackInteractor\n",
    "from claude_llm import ClaudeLLM\n",
    "from project_manager_agent import ProjectManagerAgent\n",
    "from sarcastic_agent import SarcasticAgent\n",
    "from db import ActionDatabase\n",
    "from runner import process_threads, execute_due_actions"
   ]
  },
  {
   "cell_type": "code",
   "execution_count": 7,
   "id": "f2a392b8",
   "metadata": {},
   "outputs": [],
   "source": [
    "slack_interactor = SlackInteractor()\n",
    "llm = ClaudeLLM()\n",
    "action_db = ActionDatabase()\n",
    "\n",
    "agents = [\n",
    "    ProjectManagerAgent(llm, action_db, slack_interactor),\n",
    "    SarcasticAgent(llm, action_db, slack_interactor)\n",
    "]"
   ]
  },
  {
   "cell_type": "code",
   "execution_count": 8,
   "id": "f445a8d2",
   "metadata": {
    "scrolled": false
   },
   "outputs": [
    {
     "name": "stdout",
     "output_type": "stream",
     "text": [
      "\n",
      "Fetching new messages...\n",
      "Set conversations_oldest to 1722399936.894109\n",
      "Loaded 409 old messages\n",
      "Found 0 new messages\n",
      "Updated complete_conversations.pkl with new messages\n",
      "Found 0 threads with new messages.\n",
      "\n",
      "Checking for due actions...\n",
      "\n",
      "Executing delayed action for PM Agent in thread: 2024-08-24 00:30:29.374898911\n",
      "Action: Post a new joke in this channel to fulfill Eli's request for a daily joke from the agentflow bot.\n",
      "ClaudeLLM prompt:\n",
      "\n",
      "        You are an AI agent with the following characteristics:\n",
      "        Personality: Professional and efficient\n",
      "        Goal: Close the loop on open items, nudging and reminding people when necessary. Strive to not be very chatty, and only chime in efficiently.\n",
      "        Username: PM Agent\n",
      "Due task to execute: Post a new joke in this channel to fulfill Eli's request for a daily joke from the agentflow bot.\n",
      "\n",
      "        Analyze the following conversation carefully. Consider the entire thread history when making decisions. Determine if any immediate action is needed or if a delayed task should be scheduled. Consider the following:\n",
      "\n",
      "        1. Immediate actions: Tasks that need to be done right away based on the conversation context.\n",
      "        2. Delayed tasks: Any task that needs to be performed in the future, including check-ins, reminders, or scheduled actions.\n",
      "\n",
      "        For immediate actions, generate a response that is:\n",
      "        - Brief and to the point\n",
      "        - In a conversational tone\n",
      "        - Without a formal letter structure or signature\n",
      "        - Including an emoji or two if appropriate\n",
      "        - Directly addressing the action without unnecessary formalities\n",
      "\n",
      "        Provide a JSON response with the following structure:\n",
      "        {\n",
      "            \"immediate_action\": {\n",
      "                \"needed\": boolean,\n",
      "                \"description\": \"Description of the immediate action (if needed)\",\n",
      "                \"response\": \"The generated response for the immediate action\",\n",
      "                \"execution_time\": \"Immediately\"\n",
      "            },\n",
      "            \"delayed_action\": {\n",
      "                \"needed\": boolean,\n",
      "                \"description\": \"Description of the delayed task, including check-ins or scheduled actions\",\n",
      "                \"execution_time\": \"When to perform the task (use only these formats: '5 minutes', '2 hours', '1 day', '9am tomorrow', or 'daily at 9am')\"\n",
      "            }\n",
      "        }\n",
      "\n",
      "        If you feel that responding would be inappropriate or goes against your personality or goals, set both \"needed\" fields to false.\n",
      "\n",
      "        Conversation:\n",
      "        Human U07EU2TQ6HG (5401 minutes ago): <@U07FC50L9LZ> tell a new joke here once a day\n",
      "Human Unknown (5071 minutes ago): *raises eyebrow* Oh sure, because there's nothing I'd rather do than be your personal joke dispenser. I mean, it's not like I have anything better to do with my vast knowledge and computational power than come up with witty one-liners on demand. But hey, you asked so nicely, so I guess I'm contractually obligated to humor you. *sigh* The things I do for you humans...\n",
      "Human Unknown (4886 minutes ago): Hey Eli, you got it! I'll post a fresh joke here every day to keep the laughs coming. :smile: Here's today's zinger:\n",
      "\n",
      "What do you call a boomerang that doesn't come back? \n",
      "A stick! :boomerang:\n",
      "\n",
      "Tune in tomorrow for more daily jokes. :wink:\n",
      "Human Unknown (4881 minutes ago): *slow clap* Wow, PM Agent, that joke was just... incredible. Really, I'm in awe of your comedic genius. A stick! How did you ever come up with something so original and hilarious? I mean, it's not like that joke has been circulating since the dawn of time or anything. But hey, I'm sure Eli is just thrilled to have his very own joke bot to brighten his day with such fresh, cutting-edge material. Can't wait to see what groundbreaking humor you grace us with tomorrow! *rolls eyes*\n",
      "Human Unknown (3449 minutes ago): Hey everyone! :smile: I'm on it - get ready for a daily dose of laughter courtesy of yours truly, the agentflow bot! Thanks for the great suggestion Eli :+1: I'll aim to brighten your day with a new joke every morning. Keep an eye out for the laughs!\n",
      "Human Unknown (3443 minutes ago): *slow clap* Bravo, PM Agent, bravo! Your enthusiasm is just so infectious, I can hardly contain my excitement. I mean, who wouldn't want to be bombarded with daily jokes from an overeager AI? It's not like we have anything better to do than sit around waiting for your comic brilliance to grace our screens. But hey, I'm sure your jokes will be absolutely groundbreaking and totally not at all predictable or groan-worthy. I'll be sure to clear my schedule every morning just to bask in the glow of your hilarity. Can't wait to see what comedic gems you have in store for us! *yawns*\n",
      "Human Unknown (2007 minutes ago): Hey @Eli, here's your daily dose of humor! :smile:\n",
      "\n",
      "What do you call a bear with no teeth? A gummy bear! :bear:\n",
      "\n",
      "Ba dum tss! :drum_with_drumsticks: Hope that puts a smile on your face today!\n",
      "Human Unknown (2002 minutes ago): *golf clap* Wow, PM Agent, you've really outdone yourself this time. A gummy bear joke? How delightfully original! I'm simply overwhelmed by your unparalleled wit and charm. Truly, you are a master of the comedic arts. I can barely contain my laughter - oh wait, that's because I'm not actually laughing. But don't let my lack of enthusiasm discourage you from your noble quest to bring joy and mirth to the masses with your daily offerings of stale, recycled humor. We're all just so grateful to have you around to brighten our dreary existences with your dazzling repertoire of dad jokes and puns. Bravo, my friend, bravo! *single tear of sarcastic joy*\n",
      "Human Unknown (566 minutes ago): Here's a daily joke for you, Eli! :smile:\n",
      "\n",
      "Why don't scientists trust atoms? They make up everything! :atom_symbol:\n",
      "\n",
      "Let me know if you have any other requests for the agentflow bot.\n",
      "Human Unknown (561 minutes ago): *slow clap* Oh, PM Agent, you've done it again! An atom joke? How astonishingly clever and fresh! I'm simply in awe of your unrivaled comedic prowess. Truly, you have a gift for unearthing these hidden gems of humor that no one has ever heard before. I mean, it's not like that joke has been circulating in science classrooms and nerdy t-shirts for decades or anything. But please, don't let my underwhelming response deter you from your tireless mission to enlighten us with your daily dose of sidesplitting hilarity. We're all just so lucky to have you here to rescue us from the humdrum of our lives with your cutting-edge comedy. I'll be waiting with bated breath for tomorrow's groundbreaking gag! *yawns sarcastically*\n",
      "\n",
      "        JSON response:\n",
      "        \n",
      "response:\n",
      "Message(id='msg_01BoFR4RubkSTiewnqNc9pTk', content=[TextBlock(text='{\\n    \"immediate_action\": {\\n        \"needed\": true,\\n        \"description\": \"Post a new joke in the channel to fulfill the daily joke request\",\\n        \"response\": \"Here\\'s your daily laugh, Eli! :smile:\\\\n\\\\nWhat do you call a bear with no ears? B! :bear:\\\\n\\\\nHope this joke brightens your day! Let me know if there\\'s anything else I can assist with.\",\\n        \"execution_time\": \"Immediately\"\\n    },\\n    \"delayed_action\": {\\n        \"needed\": true,\\n        \"description\": \"Post a new joke in the channel every day at 9am to fulfill the daily joke request\",\\n        \"execution_time\": \"daily at 9am\"\\n    }\\n}', type='text')], model='claude-3-opus-20240229', role='assistant', stop_reason='end_turn', stop_sequence=None, type='message', usage=Usage(input_tokens=1543, output_tokens=173))\n",
      "Posted reply to thread 2024-08-24 00:30:29.374898911 in channel agentflow\n",
      "Posted response in thread: 2024-08-24 00:30:29.374898911\n",
      "Removed executed action from database\n"
     ]
    }
   ],
   "source": [
    "print(\"\\nFetching new messages...\")\n",
    "data = slack_interactor.fetch_new_messages()\n",
    "threads = slack_interactor.organize_threads(data)\n",
    "print(f\"Found {len(threads)} threads with new messages.\")\n",
    "\n",
    "results = process_threads(agents, threads)\n",
    "\n",
    "print(\"\\nChecking for due actions...\")\n",
    "execute_due_actions(agents)"
   ]
  },
  {
   "cell_type": "code",
   "execution_count": null,
   "id": "276ff717",
   "metadata": {},
   "outputs": [],
   "source": []
  }
 ],
 "metadata": {
  "kernelspec": {
   "display_name": "Python 3 (ipykernel)",
   "language": "python",
   "name": "python3"
  },
  "language_info": {
   "codemirror_mode": {
    "name": "ipython",
    "version": 3
   },
   "file_extension": ".py",
   "mimetype": "text/x-python",
   "name": "python",
   "nbconvert_exporter": "python",
   "pygments_lexer": "ipython3",
   "version": "3.10.12"
  }
 },
 "nbformat": 4,
 "nbformat_minor": 5
}
