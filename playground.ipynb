{
 "cells": [
  {
   "cell_type": "code",
   "execution_count": 45,
   "id": "7ea06646",
   "metadata": {},
   "outputs": [
    {
     "name": "stdout",
     "output_type": "stream",
     "text": [
      "The autoreload extension is already loaded. To reload it, use:\n",
      "  %reload_ext autoreload\n"
     ]
    }
   ],
   "source": [
    "%load_ext autoreload\n",
    "%autoreload 2"
   ]
  },
  {
   "cell_type": "code",
   "execution_count": 46,
   "id": "48188838",
   "metadata": {},
   "outputs": [],
   "source": [
    "from slack import SlackInteractor\n",
    "from claude_llm import ClaudeLLM\n",
    "from project_manager_agent import ProjectManagerAgent\n",
    "from sarcastic_agent import SarcasticAgent\n",
    "from paul_graham_agent import PaulGrahamAgent  # Add this import\n",
    "from db import ActionDatabase\n",
    "from runner import process_threads, execute_due_actions\n",
    "from config import CONFIG"
   ]
  },
  {
   "cell_type": "code",
   "execution_count": 47,
   "id": "f2a392b8",
   "metadata": {},
   "outputs": [],
   "source": [
    "workspaces = CONFIG['workspaces']\n",
    "slack_interactors = {\n",
    "    workspace_config['name']: SlackInteractor(workspace_config)\n",
    "    for _, workspace_config in workspaces.items()\n",
    "}\n",
    "llm = ClaudeLLM()\n",
    "\n",
    "agents = {}\n",
    "for workspace_name, slack_interactor in slack_interactors.items():\n",
    "    action_db = ActionDatabase(workspace_name)\n",
    "    agents[workspace_name] = [\n",
    "        ProjectManagerAgent(llm, action_db, slack_interactor, workspace_name=workspace_name),\n",
    "        SarcasticAgent(llm, action_db, slack_interactor, workspace_name=workspace_name),\n",
    "        PaulGrahamAgent(llm, action_db, slack_interactor, workspace_name=workspace_name)\n",
    "    ]"
   ]
  },
  {
   "cell_type": "code",
   "execution_count": 48,
   "id": "f445a8d2",
   "metadata": {
    "scrolled": false
   },
   "outputs": [
    {
     "name": "stdout",
     "output_type": "stream",
     "text": [
      "\n",
      "Fetching new messages for workspace: agentflow\n",
      "Set conversations_oldest to 1722399936.894109\n",
      "Loaded 446 old messages\n",
      "Rate limited. Retrying in 1.11 seconds (attempt 1/10)\n",
      "Found 1 new messages\n",
      "Updated complete_conversations_agentflow.pkl with new messages\n",
      "Found 0 threads with new user messages in agentflow.\n",
      "\n",
      "Checking for due actions in agentflow...\n",
      "\n",
      "Fetching new messages for workspace: legal flow\n",
      "Set conversations_oldest to 1724897852.811579\n",
      "Loaded 18 old messages\n",
      "Found 0 new messages\n",
      "Updated complete_conversations_legal flow.pkl with new messages\n",
      "Found 0 threads with new user messages in legal flow.\n",
      "\n",
      "Checking for due actions in legal flow...\n"
     ]
    }
   ],
   "source": [
    "for workspace_name, slack_interactor in slack_interactors.items():\n",
    "    print(f\"\\nFetching new messages for workspace: {workspace_name}\")\n",
    "    data = slack_interactor.fetch_new_user_messages()\n",
    "    threads = slack_interactor.organize_threads(data)\n",
    "    print(f\"Found {len(threads)} threads with new user messages in {workspace_name}.\")\n",
    "\n",
    "    if not slack_interactor.is_first_run:\n",
    "        results = process_threads(agents[workspace_name], threads)\n",
    "        print(f\"\\nChecking for due actions in {workspace_name}...\")\n",
    "        execute_due_actions(agents[workspace_name])\n",
    "    else:\n",
    "        print(f\"First run for {workspace_name}. Skipping thread processing and due actions.\")\n",
    "        slack_interactor.is_first_run = False"
   ]
  }
 ],
 "metadata": {
  "kernelspec": {
   "display_name": "Python 3 (ipykernel)",
   "language": "python",
   "name": "python3"
  },
  "language_info": {
   "codemirror_mode": {
    "name": "ipython",
    "version": 3
   },
   "file_extension": ".py",
   "mimetype": "text/x-python",
   "name": "python",
   "nbconvert_exporter": "python",
   "pygments_lexer": "ipython3",
   "version": "3.10.12"
  }
 },
 "nbformat": 4,
 "nbformat_minor": 5
}
