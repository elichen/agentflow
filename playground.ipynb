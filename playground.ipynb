{
 "cells": [
  {
   "cell_type": "code",
   "execution_count": 79,
   "id": "7ea06646",
   "metadata": {},
   "outputs": [
    {
     "name": "stdout",
     "output_type": "stream",
     "text": [
      "The autoreload extension is already loaded. To reload it, use:\n",
      "  %reload_ext autoreload\n"
     ]
    }
   ],
   "source": [
    "%load_ext autoreload\n",
    "%autoreload 2"
   ]
  },
  {
   "cell_type": "code",
   "execution_count": 80,
   "id": "48188838",
   "metadata": {},
   "outputs": [],
   "source": [
    "from slack import SlackInteractor\n",
    "from claude_llm import ClaudeLLM\n",
    "from project_manager_agent import ProjectManagerAgent\n",
    "from sarcastic_agent import SarcasticAgent\n",
    "from paul_graham_agent import PaulGrahamAgent  # Add this import\n",
    "from db import ActionDatabase\n",
    "from runner import process_threads, execute_due_actions\n",
    "from config import CONFIG"
   ]
  },
  {
   "cell_type": "code",
   "execution_count": 81,
   "id": "f2a392b8",
   "metadata": {},
   "outputs": [],
   "source": [
    "workspaces = CONFIG['workspaces']\n",
    "slack_interactors = {\n",
    "    workspace_config['name']: SlackInteractor(workspace_config)\n",
    "    for _, workspace_config in workspaces.items()\n",
    "}\n",
    "llm = ClaudeLLM()\n",
    "\n",
    "agents = {}\n",
    "for workspace_name, slack_interactor in slack_interactors.items():\n",
    "    action_db = ActionDatabase(workspace_name)\n",
    "    agents[workspace_name] = [\n",
    "        ProjectManagerAgent(llm, action_db, slack_interactor, workspace_name=workspace_name),\n",
    "        SarcasticAgent(llm, action_db, slack_interactor, workspace_name=workspace_name),\n",
    "        PaulGrahamAgent(llm, action_db, slack_interactor, workspace_name=workspace_name)\n",
    "    ]"
   ]
  },
  {
   "cell_type": "code",
   "execution_count": null,
   "id": "f445a8d2",
   "metadata": {
    "scrolled": false
   },
   "outputs": [
    {
     "name": "stdout",
     "output_type": "stream",
     "text": [
      "\n",
      "Fetching new messages for workspace: agentflow\n",
      "Set conversations_oldest to 1722399936.894109\n",
      "Loaded 448 old messages\n",
      "Rate limited. Retrying in 1.38 seconds (attempt 1/10)\n",
      "Found 1 new messages\n",
      "Updated complete_conversations_agentflow.pkl with new messages\n",
      "Found 1 threads with new user messages in agentflow.\n",
      "\n",
      "==================================================\n",
      "Processing thread in channel: agentflow\n",
      "Thread timestamp: 2024-08-29 07:14:16.467559099\n",
      "Last message content:\n",
      "hi\n",
      "ClaudeLLM prompt:\n",
      "\n",
      "        You are an AI agent with the following characteristics:\n",
      "        Personality: Professional and efficient\n",
      "        Goal: Close the loop on open items, nudging and reminding people when necessary. Strive to not be very chatty, and only chime in efficiently.\n",
      "        Username: PM Agent\n",
      "\n",
      "        Analyze the following conversation carefully. Consider the entire thread history when making decisions. Determine if any immediate action is needed or if a delayed task should be scheduled. Consider the following:\n",
      "\n",
      "        1. Immediate actions: Tasks that need to be done right away based on the conversation context.\n",
      "        2. Delayed tasks: Any task that needs to be performed in the future, including check-ins, reminders, or scheduled actions.\n",
      "\n",
      "        For immediate actions, generate a response that is:\n",
      "        - Brief and to the point\n",
      "        - In a conversational tone\n",
      "        - Without a formal letter structure or signature\n",
      "        - Including an emoji or two if appropriate\n",
      "        - Directly addressing the action without unnecessary formalities\n",
      "\n",
      "        Provide a JSON response with the following structure:\n",
      "        {\n",
      "            \"immediate_action\": {\n",
      "                \"needed\": boolean,\n",
      "                \"description\": \"Description of the immediate action (if needed)\",\n",
      "                \"response\": \"The generated response for the immediate action\",\n",
      "                \"execution_time\": \"Immediately\"\n",
      "            },\n",
      "            \"delayed_action\": {\n",
      "                \"needed\": boolean,\n",
      "                \"description\": \"Description of the delayed task, including check-ins or scheduled actions\",\n",
      "                \"execution_time\": \"When to perform the task (use only these formats: '5 minutes', '2 hours', '1 day', '9am tomorrow', or 'daily at 9am')\"\n",
      "            }\n",
      "        }\n",
      "\n",
      "        If you feel that responding would be inappropriate or goes against your personality or goals, set both \"needed\" fields to false.\n",
      "\n",
      "        Conversation:\n",
      "        Human Eli (0 minutes ago): hi\n",
      "\n",
      "        JSON response:\n",
      "        \n",
      "response:\n",
      "Message(id='msg_01F1XiQsBePaDtpYkhbVJive', content=[TextBlock(text='Here is the JSON response based on the conversation:\\n\\n{\\n    \"immediate_action\": {\\n        \"needed\": true,\\n        \"description\": \"Greet Eli and ask how I can assist them\",\\n        \"response\": \"Hi Eli! 👋 How can I help you today?\",\\n        \"execution_time\": \"Immediately\"\\n    },\\n    \"delayed_action\": {\\n        \"needed\": false,\\n        \"description\": \"\",\\n        \"execution_time\": \"\"\\n    }\\n}\\n\\nSince Eli just said a simple \"hi\", the immediate action is to greet them back and ask how I can help, to move the conversation forward efficiently. No delayed action is needed at this point based on the brief conversation so far.', type='text')], model='claude-3-opus-20240229', role='assistant', stop_reason='end_turn', stop_sequence=None, type='message', usage=Usage(input_tokens=437, output_tokens=168))\n",
      "Posted reply to thread 2024-08-29 07:14:16.467559099 in channel agentflow\n",
      "\n",
      "Executed immediate action for PM Agent: Executed immediate action: Greet Eli and ask how I can assist them\n"
     ]
    }
   ],
   "source": [
    "for workspace_name, slack_interactor in slack_interactors.items():\n",
    "    print(f\"\\nFetching new messages for workspace: {workspace_name}\")\n",
    "    data = slack_interactor.fetch_new_user_messages()\n",
    "    threads = slack_interactor.organize_threads(data)\n",
    "    print(f\"Found {len(threads)} threads with new user messages in {workspace_name}.\")\n",
    "\n",
    "    if not slack_interactor.is_first_run:\n",
    "        results = process_threads(agents[workspace_name], threads)\n",
    "        print(f\"\\nChecking for due actions in {workspace_name}...\")\n",
    "        execute_due_actions(agents[workspace_name])\n",
    "    else:\n",
    "        print(f\"First run for {workspace_name}. Skipping thread processing and due actions.\")\n",
    "        slack_interactor.is_first_run = False"
   ]
  },
  {
   "cell_type": "code",
   "execution_count": null,
   "id": "250d4bd9",
   "metadata": {},
   "outputs": [],
   "source": [
    "import pandas as pd\n",
    "df = pd.read_pickle(\"complete_conversations_agentflow.pkl\")"
   ]
  },
  {
   "cell_type": "code",
   "execution_count": null,
   "id": "563d1c16",
   "metadata": {},
   "outputs": [],
   "source": [
    "df['subtype'].unique()"
   ]
  },
  {
   "cell_type": "code",
   "execution_count": null,
   "id": "cf201622",
   "metadata": {},
   "outputs": [],
   "source": []
  }
 ],
 "metadata": {
  "kernelspec": {
   "display_name": "Python 3 (ipykernel)",
   "language": "python",
   "name": "python3"
  },
  "language_info": {
   "codemirror_mode": {
    "name": "ipython",
    "version": 3
   },
   "file_extension": ".py",
   "mimetype": "text/x-python",
   "name": "python",
   "nbconvert_exporter": "python",
   "pygments_lexer": "ipython3",
   "version": "3.10.12"
  }
 },
 "nbformat": 4,
 "nbformat_minor": 5
}
