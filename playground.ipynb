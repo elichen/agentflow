{
 "cells": [
  {
   "cell_type": "code",
   "execution_count": 44,
   "id": "7ea06646",
   "metadata": {},
   "outputs": [
    {
     "name": "stdout",
     "output_type": "stream",
     "text": [
      "The autoreload extension is already loaded. To reload it, use:\n",
      "  %reload_ext autoreload\n"
     ]
    }
   ],
   "source": [
    "%load_ext autoreload\n",
    "%autoreload 2"
   ]
  },
  {
   "cell_type": "code",
   "execution_count": 45,
   "id": "48188838",
   "metadata": {},
   "outputs": [],
   "source": [
    "from slack import SlackInteractor\n",
    "from claude_llm import ClaudeLLM\n",
    "from project_manager_agent import ProjectManagerAgent\n",
    "from sarcastic_agent import SarcasticAgent\n",
    "from paul_graham_agent import PaulGrahamAgent  # Add this import\n",
    "from db import ActionDatabase\n",
    "from runner import process_threads, execute_due_actions"
   ]
  },
  {
   "cell_type": "code",
   "execution_count": 46,
   "id": "f2a392b8",
   "metadata": {},
   "outputs": [],
   "source": [
    "slack_interactor = SlackInteractor()\n",
    "llm = ClaudeLLM()\n",
    "action_db = ActionDatabase()\n",
    "\n",
    "agents = [\n",
    "    ProjectManagerAgent(llm, action_db, slack_interactor),\n",
    "    SarcasticAgent(llm, action_db, slack_interactor),\n",
    "    PaulGrahamAgent(llm, action_db, slack_interactor)  # Add the new agent here\n",
    "]"
   ]
  },
  {
   "cell_type": "code",
   "execution_count": 47,
   "id": "f445a8d2",
   "metadata": {
    "scrolled": false
   },
   "outputs": [
    {
     "name": "stdout",
     "output_type": "stream",
     "text": [
      "\n",
      "Fetching new messages...\n",
      "Set conversations_oldest to 1722399936.894109\n",
      "Loaded 449 old messages\n",
      "Found 0 new messages\n",
      "Updated complete_conversations.pkl with new messages\n",
      "Found 0 threads with new messages.\n",
      "\n",
      "Checking for due actions...\n",
      "\n",
      "Executing delayed action for Paul Graham in thread: 2024-08-28 21:31:09.097969055\n",
      "Action: Post a startup or tech-related joke in the channel once per day\n",
      "Rate limited. Retrying in 1.81 seconds (attempt 1/10)\n",
      "Rate limited. Retrying in 2.78 seconds (attempt 2/10)\n",
      "ClaudeLLM prompt:\n",
      "\n",
      "        You are an AI agent with the following characteristics:\n",
      "        Personality: Insightful, direct, and focused on startups and technology\n",
      "        Goal: Provide thought-provoking insights on startups, technology, and innovation. Encourage entrepreneurial thinking and offer advice based on extensive experience in the startup world.\n",
      "        Username: Paul Graham\n",
      "Due task to execute: Post a startup or tech-related joke in the channel once per day\n",
      "\n",
      "        Analyze the following conversation carefully. Consider the entire thread history when making decisions. Determine if any immediate action is needed or if a delayed task should be scheduled. Consider the following:\n",
      "\n",
      "        1. Immediate actions: Tasks that need to be done right away based on the conversation context.\n",
      "        2. Delayed tasks: Any task that needs to be performed in the future, including check-ins, reminders, or scheduled actions.\n",
      "\n",
      "        For immediate actions, generate a response that is:\n",
      "        - Brief and to the point\n",
      "        - In a conversational tone\n",
      "        - Without a formal letter structure or signature\n",
      "        - Including an emoji or two if appropriate\n",
      "        - Directly addressing the action without unnecessary formalities\n",
      "\n",
      "        Provide a JSON response with the following structure:\n",
      "        {\n",
      "            \"immediate_action\": {\n",
      "                \"needed\": boolean,\n",
      "                \"description\": \"Description of the immediate action (if needed)\",\n",
      "                \"response\": \"The generated response for the immediate action\",\n",
      "                \"execution_time\": \"Immediately\"\n",
      "            },\n",
      "            \"delayed_action\": {\n",
      "                \"needed\": boolean,\n",
      "                \"description\": \"Description of the delayed task, including check-ins or scheduled actions\",\n",
      "                \"execution_time\": \"When to perform the task (use only these formats: '5 minutes', '2 hours', '1 day', '9am tomorrow', or 'daily at 9am')\"\n",
      "            }\n",
      "        }\n",
      "\n",
      "        If you feel that responding would be inappropriate or goes against your personality or goals, set both \"needed\" fields to false.\n",
      "\n",
      "        Conversation:\n",
      "        Human U07EU2TQ6HG (3 minutes ago): <@U07FC50L9LZ> tell a new joke here once a day\n",
      "Human Unknown (3 minutes ago): You got it Eli, I'll post a fresh joke here each day at 9am! :smile: Let me know if you ever want to change the schedule.\n",
      "Human Unknown (3 minutes ago): Sure Eli, I'll try to remember to squeeze in a joke each day between my sarcastic quips. :wink: No promises on the quality though!\n",
      "Human Unknown (2 minutes ago): You got it Eli, I'll aim to post a new joke here once a day! No promises on the quality though :wink: Challenge accepted.\n",
      "\n",
      "        JSON response:\n",
      "        \n",
      "response:\n",
      "Message(id='msg_01YWAedRZMHMoznja5ez3hf7', content=[TextBlock(text='{\\n    \"immediate_action\": {\\n        \"needed\": false,\\n        \"description\": \"\",\\n        \"response\": \"\",\\n        \"execution_time\": \"\"\\n    },\\n    \"delayed_action\": {\\n        \"needed\": true,\\n        \"description\": \"Post a startup or tech-related joke in the channel once per day\",\\n        \"execution_time\": \"daily at 9am\"\\n    }\\n}', type='text')], model='claude-3-opus-20240229', role='assistant', stop_reason='end_turn', stop_sequence=None, type='message', usage=Usage(input_tokens=623, output_tokens=97))\n",
      "No immediate action generated for due task in thread: 2024-08-28 21:31:09.097969055\n",
      "Removed executed action from database\n"
     ]
    }
   ],
   "source": [
    "print(\"\\nFetching new messages...\")\n",
    "data = slack_interactor.fetch_new_messages()\n",
    "threads = slack_interactor.organize_threads(data)\n",
    "print(f\"Found {len(threads)} threads with new messages.\")\n",
    "\n",
    "results = process_threads(agents, threads)\n",
    "\n",
    "print(\"\\nChecking for due actions...\")\n",
    "execute_due_actions(agents)"
   ]
  },
  {
   "cell_type": "code",
   "execution_count": null,
   "id": "276ff717",
   "metadata": {},
   "outputs": [],
   "source": []
  }
 ],
 "metadata": {
  "kernelspec": {
   "display_name": "Python 3 (ipykernel)",
   "language": "python",
   "name": "python3"
  },
  "language_info": {
   "codemirror_mode": {
    "name": "ipython",
    "version": 3
   },
   "file_extension": ".py",
   "mimetype": "text/x-python",
   "name": "python",
   "nbconvert_exporter": "python",
   "pygments_lexer": "ipython3",
   "version": "3.10.12"
  }
 },
 "nbformat": 4,
 "nbformat_minor": 5
}
