{
 "cells": [
  {
   "cell_type": "code",
   "execution_count": 100,
   "id": "7ea06646",
   "metadata": {},
   "outputs": [
    {
     "name": "stdout",
     "output_type": "stream",
     "text": [
      "The autoreload extension is already loaded. To reload it, use:\n",
      "  %reload_ext autoreload\n"
     ]
    }
   ],
   "source": [
    "%load_ext autoreload\n",
    "%autoreload 2\n",
    "from slack import SlackInteractor\n",
    "from llm import LLMInteractor\n",
    "from runner import process_threads, execute_due_actions"
   ]
  },
  {
   "cell_type": "code",
   "execution_count": 101,
   "id": "f2a392b8",
   "metadata": {},
   "outputs": [],
   "source": [
    "interactor = SlackInteractor()\n",
    "llm_interactor = LLMInteractor(interactor)"
   ]
  },
  {
   "cell_type": "code",
   "execution_count": 102,
   "id": "f445a8d2",
   "metadata": {},
   "outputs": [
    {
     "name": "stdout",
     "output_type": "stream",
     "text": [
      "\n",
      "Fetching new messages...\n",
      "Set conversations_oldest to 1722399936.894109\n",
      "Loaded 194 old messages\n",
      "Found 2 new messages\n",
      "Updated complete_conversations.pkl with new messages\n",
      "Found 2 threads with new messages.\n",
      "\n",
      "==================================================\n",
      "Processing thread in channel: agentflow\n",
      "Thread timestamp: 2024-08-12 22:43:44.565398932\n",
      "Last message content:\n",
      "Here's a joke for you: What do you call a boomerang that doesn't come back? A stick! :laughing: Ba dum tss :drum_with_drumsticks:\n",
      "Debug: Raw LLM response:\n",
      "{\n",
      "    \"immediate_action\": {\n",
      "        \"needed\": false,\n",
      "        \"description\": \"\",\n",
      "        \"execution_time\": \"\"\n",
      "    },\n",
      "    \"delayed_action\": {\n",
      "        \"needed\": true,\n",
      "        \"description\": \"Tell a new joke to the human\",\n",
      "        \"execution_time\": \"9am tomorrow\"\n",
      "    }\n",
      "}\n",
      "Debug: Extracted actions: [{'type': 'delayed', 'description': 'Tell a new joke to the human', 'execution_time': '9am tomorrow'}]\n",
      "Debug: Processing delayed action: {'type': 'delayed', 'description': 'Tell a new joke to the human', 'execution_time': '9am tomorrow'}\n",
      "Debug: Parsing execution time: '9am tomorrow'\n",
      "Debug: Time parts: ['9am', 'tomorrow']\n",
      "Debug: Found time part: 9am\n",
      "Debug - Added action due at: 2024-08-13 09:00:00\n",
      "\n",
      "Raw LLM Response:\n",
      "{\n",
      "    \"immediate_action\": {\n",
      "        \"needed\": false,\n",
      "        \"description\": \"\",\n",
      "        \"execution_time\": \"\"\n",
      "    },\n",
      "    \"delayed_action\": {\n",
      "        \"needed\": true,\n",
      "        \"description\": \"Tell a new joke to the human\",\n",
      "        \"execution_time\": \"9am tomorrow\"\n",
      "    }\n",
      "}\n",
      "\n",
      "New action scheduled: Delayed task: Tell a new joke to the human (Execute at: 2024-08-13 09:00:00)\n",
      "==================================================\n",
      "\n",
      "\n",
      "==================================================\n",
      "Processing thread in channel: agentflow\n",
      "Thread timestamp: 2024-08-12 22:44:27.042509079\n",
      "Last message content:\n",
      "Hey, I've got a joke for you! :smile:\n",
      "\n",
      "Why don't scientists trust atoms? They make up everything! :atom_symbol:\n",
      "\n",
      "Ba dum tss! :drum_with_drumsticks: Hope that gave you a little chuckle.\n",
      "Debug: Raw LLM response:\n",
      "{\n",
      "    \"immediate_action\": {\n",
      "        \"needed\": false,\n",
      "        \"description\": \"\",\n",
      "        \"execution_time\": \"\"\n",
      "    },\n",
      "    \"delayed_action\": {\n",
      "        \"needed\": false,\n",
      "        \"description\": \"\",\n",
      "        \"execution_time\": \"\"\n",
      "    }\n",
      "}\n",
      "Debug: Extracted actions: []\n",
      "\n",
      "Raw LLM Response:\n",
      "{\n",
      "    \"immediate_action\": {\n",
      "        \"needed\": false,\n",
      "        \"description\": \"\",\n",
      "        \"execution_time\": \"\"\n",
      "    },\n",
      "    \"delayed_action\": {\n",
      "        \"needed\": false,\n",
      "        \"description\": \"\",\n",
      "        \"execution_time\": \"\"\n",
      "    }\n",
      "}\n",
      "\n",
      "No actions needed.\n",
      "==================================================\n",
      "\n",
      "\n",
      "Checking for due actions...\n"
     ]
    }
   ],
   "source": [
    "print(\"\\nFetching new messages...\")\n",
    "data = interactor.fetch_new_messages()\n",
    "threads = interactor.organize_threads(data)\n",
    "print(f\"Found {len(threads)} threads with new messages.\")\n",
    "\n",
    "results = process_threads(interactor, llm_interactor, threads)\n",
    "\n",
    "print(\"\\nChecking for due actions...\")\n",
    "execute_due_actions(interactor, llm_interactor)\n"
   ]
  },
  {
   "cell_type": "code",
   "execution_count": null,
   "id": "276ff717",
   "metadata": {},
   "outputs": [],
   "source": []
  }
 ],
 "metadata": {
  "kernelspec": {
   "display_name": "Python 3 (ipykernel)",
   "language": "python",
   "name": "python3"
  },
  "language_info": {
   "codemirror_mode": {
    "name": "ipython",
    "version": 3
   },
   "file_extension": ".py",
   "mimetype": "text/x-python",
   "name": "python",
   "nbconvert_exporter": "python",
   "pygments_lexer": "ipython3",
   "version": "3.10.12"
  }
 },
 "nbformat": 4,
 "nbformat_minor": 5
}
