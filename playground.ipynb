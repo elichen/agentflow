{
 "cells": [
  {
   "cell_type": "code",
   "execution_count": 9,
   "id": "7ea06646",
   "metadata": {},
   "outputs": [
    {
     "name": "stdout",
     "output_type": "stream",
     "text": [
      "The autoreload extension is already loaded. To reload it, use:\n",
      "  %reload_ext autoreload\n"
     ]
    }
   ],
   "source": [
    "%load_ext autoreload\n",
    "%autoreload 2\n",
    "from slack import SlackInteractor\n",
    "from llm import LLMInteractor"
   ]
  },
  {
   "cell_type": "code",
   "execution_count": 59,
   "id": "f4d2c5dc",
   "metadata": {},
   "outputs": [
    {
     "name": "stdout",
     "output_type": "stream",
     "text": [
      "Set conversations_oldest to 1722399936.894109\n",
      "Loaded 34 old messages\n",
      "Found 1 new messages\n",
      "Updated complete_conversations.pkl with new messages\n"
     ]
    }
   ],
   "source": [
    "interactor = SlackInteractor()\n",
    "data = interactor.fetch_new_messages()"
   ]
  },
  {
   "cell_type": "code",
   "execution_count": 60,
   "id": "57980e4a",
   "metadata": {},
   "outputs": [],
   "source": [
    "threads = interactor.organize_threads(data)"
   ]
  },
  {
   "cell_type": "code",
   "execution_count": 61,
   "id": "3bc6b96a",
   "metadata": {},
   "outputs": [
    {
     "data": {
      "text/html": [
       "<div>\n",
       "<style scoped>\n",
       "    .dataframe tbody tr th:only-of-type {\n",
       "        vertical-align: middle;\n",
       "    }\n",
       "\n",
       "    .dataframe tbody tr th {\n",
       "        vertical-align: top;\n",
       "    }\n",
       "\n",
       "    .dataframe thead th {\n",
       "        text-align: right;\n",
       "    }\n",
       "</style>\n",
       "<table border=\"1\" class=\"dataframe\">\n",
       "  <thead>\n",
       "    <tr style=\"text-align: right;\">\n",
       "      <th></th>\n",
       "      <th>max_len</th>\n",
       "      <th>total_length</th>\n",
       "      <th>total_messages</th>\n",
       "      <th>average_message_size</th>\n",
       "    </tr>\n",
       "    <tr>\n",
       "      <th>user_name</th>\n",
       "      <th></th>\n",
       "      <th></th>\n",
       "      <th></th>\n",
       "      <th></th>\n",
       "    </tr>\n",
       "  </thead>\n",
       "  <tbody>\n",
       "    <tr>\n",
       "      <th>Agentflow2</th>\n",
       "      <td>359</td>\n",
       "      <td>359</td>\n",
       "      <td>1</td>\n",
       "      <td>359.0</td>\n",
       "    </tr>\n",
       "  </tbody>\n",
       "</table>\n",
       "</div>"
      ],
      "text/plain": [
       "            max_len  total_length  total_messages  average_message_size\n",
       "user_name                                                              \n",
       "Agentflow2      359           359               1                 359.0"
      ]
     },
     "execution_count": 61,
     "metadata": {},
     "output_type": "execute_result"
    }
   ],
   "source": [
    "interactor.get_conversation_stats(data)"
   ]
  },
  {
   "cell_type": "code",
   "execution_count": 62,
   "id": "8c2ba3a1",
   "metadata": {},
   "outputs": [
    {
     "data": {
      "text/plain": [
       "{'channel': 'general',\n",
       " 'thread_ts': Timestamp('2024-08-02 21:03:14.287458897'),\n",
       " 'messages': [{'ts': Timestamp('2024-08-02 21:03:14.287458897'),\n",
       "   'user': 'Eli.chen',\n",
       "   'text': \"hey what's your name\",\n",
       "   'is_bot': False,\n",
       "   'minutes_ago': 1418},\n",
       "  {'ts': Timestamp('2024-08-02 21:03:17.174019098'),\n",
       "   'user': 'Agentflow2',\n",
       "   'text': \"My name is Claude. It's nice to meet you! Let me know if you have any questions I can assist you with.\",\n",
       "   'is_bot': True,\n",
       "   'minutes_ago': 1418},\n",
       "  {'ts': Timestamp('2024-08-02 21:03:30.199419022'),\n",
       "   'user': 'Eli.chen',\n",
       "   'text': 'write a joke about your situation',\n",
       "   'is_bot': False,\n",
       "   'minutes_ago': 1418},\n",
       "  {'ts': Timestamp('2024-08-02 21:03:50.804688931'),\n",
       "   'user': 'Agentflow2',\n",
       "   'text': \"Here's a joke about my situation as an AI:\\n\\nWhy don't I ever get tired of answering questions? \\nBecause I've got unlimited artificial energy!\\n\\nI hope that gave you a little chuckle! Let me know if you'd like to hear any other jokes or if there's anything else I can help with.\",\n",
       "   'is_bot': True,\n",
       "   'minutes_ago': 1418},\n",
       "  {'ts': Timestamp('2024-08-02 21:07:41.087409019'),\n",
       "   'user': 'Eli.chen',\n",
       "   'text': \"what's your context window?\",\n",
       "   'is_bot': False,\n",
       "   'minutes_ago': 1414},\n",
       "  {'ts': Timestamp('2024-08-02 21:12:15.110308886'),\n",
       "   'user': 'Agentflow2',\n",
       "   'text': \"I don't actually have a specific context window size. I'm an AI assistant created by Anthropic to be helpful, harmless, and honest. I don't have detailed information about my own architecture or training. If you're curious about my capabilities, it's best to simply try asking me different types of questions or giving me different tasks to see what I can do.\",\n",
       "   'is_bot': True,\n",
       "   'minutes_ago': 1409}]}"
      ]
     },
     "execution_count": 62,
     "metadata": {},
     "output_type": "execute_result"
    }
   ],
   "source": [
    "threads[0]"
   ]
  },
  {
   "cell_type": "code",
   "execution_count": 64,
   "id": "20785dd6",
   "metadata": {},
   "outputs": [
    {
     "data": {
      "text/plain": [
       "'No reminders needed at this time.'"
      ]
     },
     "execution_count": 64,
     "metadata": {},
     "output_type": "execute_result"
    }
   ],
   "source": [
    "from pandas import Timestamp\n",
    "\n",
    "llm_interactor = LLMInteractor()\n",
    "thread = {'channel': 'general',\n",
    "  'thread_ts': Timestamp('2024-08-01 23:18:53.991878986'),\n",
    "  'messages': [{'ts': Timestamp('2024-08-01 23:18:53.991878986'),\n",
    "    'user': 'Eli.chen',\n",
    "    'text': 'hello everyone. my name is Eli',\n",
    "    'is_bot': False,\n",
    "    'minutes_ago': 153}]}\n",
    "response = llm_interactor.review_and_remind(thread)\n",
    "response"
   ]
  },
  {
   "cell_type": "code",
   "execution_count": 58,
   "id": "f445a8d2",
   "metadata": {},
   "outputs": [
    {
     "name": "stdout",
     "output_type": "stream",
     "text": [
      "Posted reply to thread 1722632063.551869 in channel general\n",
      "Posted reply to thread 1722632067.855989 in channel general\n"
     ]
    }
   ],
   "source": [
    "for thread in threads:\n",
    "    if not thread['messages'][-1]['is_bot']:\n",
    "        response = llm_interactor.generate_thread_response(thread, guideline_prompt)\n",
    "        interactor.post_thread_reply(thread, response)"
   ]
  }
 ],
 "metadata": {
  "kernelspec": {
   "display_name": "Python 3 (ipykernel)",
   "language": "python",
   "name": "python3"
  },
  "language_info": {
   "codemirror_mode": {
    "name": "ipython",
    "version": 3
   },
   "file_extension": ".py",
   "mimetype": "text/x-python",
   "name": "python",
   "nbconvert_exporter": "python",
   "pygments_lexer": "ipython3",
   "version": "3.10.12"
  }
 },
 "nbformat": 4,
 "nbformat_minor": 5
}
