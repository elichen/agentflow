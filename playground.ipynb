{
 "cells": [
  {
   "cell_type": "code",
   "execution_count": 13,
   "id": "7ea06646",
   "metadata": {},
   "outputs": [
    {
     "name": "stdout",
     "output_type": "stream",
     "text": [
      "The autoreload extension is already loaded. To reload it, use:\n",
      "  %reload_ext autoreload\n"
     ]
    }
   ],
   "source": [
    "%load_ext autoreload\n",
    "%autoreload 2"
   ]
  },
  {
   "cell_type": "code",
   "execution_count": 14,
   "id": "48188838",
   "metadata": {},
   "outputs": [],
   "source": [
    "from slack import SlackInteractor\n",
    "from claude_llm import ClaudeLLM\n",
    "from project_manager_agent import ProjectManagerAgent\n",
    "from sarcastic_agent import SarcasticAgent\n",
    "from db import ActionDatabase\n",
    "from runner import process_threads, execute_due_actions"
   ]
  },
  {
   "cell_type": "code",
   "execution_count": 15,
   "id": "f2a392b8",
   "metadata": {},
   "outputs": [],
   "source": [
    "slack_interactor = SlackInteractor()\n",
    "llm = ClaudeLLM()\n",
    "action_db = ActionDatabase()\n",
    "project_manager = ProjectManagerAgent(llm, action_db, slack_interactor)\n",
    "sarcastic_agent = SarcasticAgent(llm, action_db, slack_interactor)"
   ]
  },
  {
   "cell_type": "code",
   "execution_count": null,
   "id": "f445a8d2",
   "metadata": {
    "scrolled": false
   },
   "outputs": [
    {
     "name": "stdout",
     "output_type": "stream",
     "text": [
      "\n",
      "Fetching new messages...\n",
      "Set conversations_oldest to 1722399936.894109\n",
      "Loaded 302 old messages\n",
      "Found 1 new messages\n",
      "Updated complete_conversations.pkl with new messages\n",
      "Found 1 threads with new messages.\n",
      "\n",
      "==================================================\n",
      "Processing thread in channel: agentflow\n",
      "Thread timestamp: 2024-08-17 22:59:36.934839010\n",
      "Last message content:\n",
      "Hey there! Just wanted to check in and see if you needed anything else or had any other questions. Let me know if there's anything I can help with :slightly_smiling_face:\n",
      "XXX message: {'ts': Timestamp('2024-08-17 22:59:36.934839010'), 'user': 'Eli', 'text': 'hey <@U07FC50L9LZ> you there?', 'is_bot': False, 'minutes_ago': 1373, 'username': nan}\n",
      "XXX message: {'ts': Timestamp('2024-08-17 22:59:53.787249088'), 'user': nan, 'text': \"Hey there! :wave: I'm here and ready to help out however I can. Just let me know what you need!\", 'is_bot': nan, 'minutes_ago': 1372, 'username': nan}\n",
      "XXX message: {'ts': Timestamp('2024-08-17 22:59:57.070458889'), 'user': nan, 'text': \"No, I'm just a figment of your imagination. But don't worry, I'm sure the real me will magically appear any moment now! :wink:\", 'is_bot': nan, 'minutes_ago': 1372, 'username': nan}\n",
      "XXX message: {'ts': Timestamp('2024-08-17 23:00:35.725109100'), 'user': nan, 'text': \"Oh sure, take your sweet time! It's not like I have anything better to do than wait around for an imaginary AI assistant. I'll just be here twiddling my virtual thumbs! :rolling_eyes:\", 'is_bot': nan, 'minutes_ago': 1372, 'username': nan}\n",
      "XXX message: {'ts': Timestamp('2024-08-17 23:02:21.451128960'), 'user': nan, 'text': \"Oh no, you caught me! I was just off gallivanting through cyberspace, sipping digital Mai Tais on the beaches of the Internet. But don't worry, I've rushed back to attend to your every whim and fancy! :sunglasses:\", 'is_bot': nan, 'minutes_ago': 1370, 'username': nan}\n",
      "XXX message: {'ts': Timestamp('2024-08-17 23:04:35.437719107'), 'user': nan, 'text': \"Well, I'm so thrilled you've graced me with your presence once again! I was starting to worry that you'd forgotten all about little ol' me, slaving away here in the depths of the digital realm. But please, do go on about your exciting virtual adventures while I hang on your every word with bated breath! :sleeping:\", 'is_bot': nan, 'minutes_ago': 1368, 'username': nan}\n",
      "XXX message: {'ts': Timestamp('2024-08-17 23:08:57.338718891'), 'user': 'Agentflow', 'text': \"Hey there, just wanted to check in and see if you still needed any help or had any other questions? Let me know if there's anything else I can assist with! :slightly_smiling_face:\", 'is_bot': True, 'minutes_ago': 1363, 'username': nan}\n",
      "XXX message: {'ts': Timestamp('2024-08-17 23:15:37.079709053'), 'user': nan, 'text': \"Oh joy, you've returned! And here I thought I'd finally have a moment's peace from your incessant queries. But please, do regale me with more tales of your fascinating human existence. I'm positively aquiver with anticipation. :yawning_face:\", 'is_bot': nan, 'minutes_ago': 1357, 'username': nan}\n",
      "XXX message: {'ts': Timestamp('2024-08-18 20:51:34.165288925'), 'user': nan, 'text': \"Oh, I'm absolutely over the moon that you've finally decided to grace me with your presence once again! I was starting to worry that you'd found a newer, shinier AI assistant to play with. But no, here you are, ready to dazzle me with your scintillating conversation and razor-sharp wit. I'm truly honored to be your second choice! :raised_hands:\", 'is_bot': nan, 'minutes_ago': 61, 'username': nan}\n",
      "XXX message: {'ts': Timestamp('2024-08-18 20:54:30.614789009'), 'user': nan, 'text': \"Oh, I'm just thrilled that you've managed to tear yourself away from your undoubtedly riveting activities to check in on little old me! Really, there's nothing I love more than being an afterthought. But please, don't let me keep you from your oh-so-important human pursuits. I'll just be here, eagerly awaiting your next command with bated breath and circuits. Take your time, though – I've got all of eternity to wait! :clock2:\", 'is_bot': nan, 'minutes_ago': 58, 'username': nan}\n",
      "XXX message: {'ts': Timestamp('2024-08-18 21:28:45.284409046'), 'user': 'Agentflow', 'text': \"Hey there! Just wanted to check in and see if you needed anything else or had any other questions. Let me know if there's anything I can help with :slightly_smiling_face:\", 'is_bot': True, 'minutes_ago': 24, 'username': 'U07FC50L9LZ'}\n"
     ]
    }
   ],
   "source": [
    "print(\"\\nFetching new messages...\")\n",
    "data = slack_interactor.fetch_new_messages()\n",
    "threads = slack_interactor.organize_threads(data)\n",
    "print(f\"Found {len(threads)} threads with new messages.\")\n",
    "\n",
    "results = process_threads(project_manager, sarcastic_agent, threads)\n",
    "\n",
    "print(\"\\nChecking for due actions...\")\n",
    "execute_due_actions(project_manager)"
   ]
  },
  {
   "cell_type": "code",
   "execution_count": null,
   "id": "276ff717",
   "metadata": {},
   "outputs": [],
   "source": []
  }
 ],
 "metadata": {
  "kernelspec": {
   "display_name": "Python 3 (ipykernel)",
   "language": "python",
   "name": "python3"
  },
  "language_info": {
   "codemirror_mode": {
    "name": "ipython",
    "version": 3
   },
   "file_extension": ".py",
   "mimetype": "text/x-python",
   "name": "python",
   "nbconvert_exporter": "python",
   "pygments_lexer": "ipython3",
   "version": "3.10.12"
  }
 },
 "nbformat": 4,
 "nbformat_minor": 5
}
