{
 "cells": [
  {
   "cell_type": "code",
   "execution_count": 18,
   "id": "7ea06646",
   "metadata": {},
   "outputs": [
    {
     "name": "stdout",
     "output_type": "stream",
     "text": [
      "The autoreload extension is already loaded. To reload it, use:\n",
      "  %reload_ext autoreload\n"
     ]
    }
   ],
   "source": [
    "%load_ext autoreload\n",
    "%autoreload 2"
   ]
  },
  {
   "cell_type": "code",
   "execution_count": 19,
   "id": "48188838",
   "metadata": {},
   "outputs": [],
   "source": [
    "from slack import SlackInteractor\n",
    "from claude_llm import ClaudeLLM\n",
    "from project_manager_agent import ProjectManagerAgent\n",
    "from sarcastic_agent import SarcasticAgent\n",
    "from db import ActionDatabase\n",
    "from runner import process_threads, execute_due_actions"
   ]
  },
  {
   "cell_type": "code",
   "execution_count": 20,
   "id": "f2a392b8",
   "metadata": {},
   "outputs": [],
   "source": [
    "slack_interactor = SlackInteractor()\n",
    "llm = ClaudeLLM()\n",
    "action_db = ActionDatabase()\n",
    "project_manager = ProjectManagerAgent(llm, action_db, slack_interactor)\n",
    "sarcastic_agent = SarcasticAgent(llm, action_db, slack_interactor)"
   ]
  },
  {
   "cell_type": "code",
   "execution_count": 21,
   "id": "f445a8d2",
   "metadata": {
    "scrolled": false
   },
   "outputs": [
    {
     "name": "stdout",
     "output_type": "stream",
     "text": [
      "\n",
      "Fetching new messages...\n",
      "Set conversations_oldest to 1722399936.894109\n",
      "Loaded 318 old messages\n",
      "Found 0 new messages\n",
      "Updated complete_conversations.pkl with new messages\n",
      "Found 0 threads with new messages.\n",
      "\n",
      "Checking for due actions...\n",
      "\n",
      "Executing delayed action for thread: 2024-08-17 22:59:36.934839010\n",
      "Action: Check in with the human to see if they need any further assistance or have additional questions. Apologize for the sarcastic responses and express a genuine willingness to help.\n",
      "XXX ClaudeLLM prompt:\n",
      "\n",
      "        Generate a response for the following action in a Slack conversation:\n",
      "        - Keep it brief and to the point\n",
      "        - Use a conversational tone\n",
      "        - Don't use a formal letter structure or signature\n",
      "        - Include an emoji or two if appropriate\n",
      "        - Directly address the action without unnecessary formalities\n",
      "\n",
      "        Action: Check in with the human to see if they need any further assistance or have additional questions. Apologize for the sarcastic responses and express a genuine willingness to help.\n",
      "\n",
      "        Slack message:\n",
      "        \n",
      "response:\n",
      "Message(id='msg_01HcEtmgc5eQzYzN71ZMTMyq', content=[TextBlock(text=\"Hey there! 🙋\\u200d♂️ Just wanted to circle back and see if you needed anything else. Sorry about the snarky responses earlier - that's my bad. 😅 I'm here to help for real, so let me know if you have any other questions!\", type='text')], model='claude-3-opus-20240229', role='assistant', stop_reason='end_turn', stop_sequence=None, type='message', usage=Usage(input_tokens=123, output_tokens=66))\n",
      "Posted reply to thread 2024-08-17 22:59:36.934839010 in channel agentflow\n",
      "Posted response in thread: 2024-08-17 22:59:36.934839010\n",
      "Removed executed action from database\n"
     ]
    }
   ],
   "source": [
    "print(\"\\nFetching new messages...\")\n",
    "data = slack_interactor.fetch_new_messages()\n",
    "threads = slack_interactor.organize_threads(data)\n",
    "print(f\"Found {len(threads)} threads with new messages.\")\n",
    "\n",
    "results = process_threads(project_manager, sarcastic_agent, threads)\n",
    "\n",
    "print(\"\\nChecking for due actions...\")\n",
    "execute_due_actions(project_manager)"
   ]
  },
  {
   "cell_type": "code",
   "execution_count": null,
   "id": "276ff717",
   "metadata": {},
   "outputs": [],
   "source": []
  }
 ],
 "metadata": {
  "kernelspec": {
   "display_name": "Python 3 (ipykernel)",
   "language": "python",
   "name": "python3"
  },
  "language_info": {
   "codemirror_mode": {
    "name": "ipython",
    "version": 3
   },
   "file_extension": ".py",
   "mimetype": "text/x-python",
   "name": "python",
   "nbconvert_exporter": "python",
   "pygments_lexer": "ipython3",
   "version": "3.10.12"
  }
 },
 "nbformat": 4,
 "nbformat_minor": 5
}
