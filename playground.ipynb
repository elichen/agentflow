{
 "cells": [
  {
   "cell_type": "code",
   "execution_count": 9,
   "id": "7ea06646",
   "metadata": {},
   "outputs": [
    {
     "name": "stdout",
     "output_type": "stream",
     "text": [
      "The autoreload extension is already loaded. To reload it, use:\n",
      "  %reload_ext autoreload\n"
     ]
    }
   ],
   "source": [
    "%load_ext autoreload\n",
    "%autoreload 2\n",
    "from slack import SlackInteractor\n",
    "from llm import LLMInteractor"
   ]
  },
  {
   "cell_type": "code",
   "execution_count": 30,
   "id": "f4d2c5dc",
   "metadata": {},
   "outputs": [
    {
     "name": "stdout",
     "output_type": "stream",
     "text": [
      "Set conversations_oldest to 1722399936.894109\n",
      "Loaded 22 old messages\n",
      "Found 2 new messages\n",
      "Updated complete_conversations.pkl with new messages\n"
     ]
    }
   ],
   "source": [
    "interactor = SlackInteractor()\n",
    "data = interactor.fetch_new_messages()"
   ]
  },
  {
   "cell_type": "code",
   "execution_count": 31,
   "id": "57980e4a",
   "metadata": {},
   "outputs": [],
   "source": [
    "threads = interactor.organize_threads(data)"
   ]
  },
  {
   "cell_type": "code",
   "execution_count": 32,
   "id": "3bc6b96a",
   "metadata": {},
   "outputs": [
    {
     "data": {
      "text/html": [
       "<div>\n",
       "<style scoped>\n",
       "    .dataframe tbody tr th:only-of-type {\n",
       "        vertical-align: middle;\n",
       "    }\n",
       "\n",
       "    .dataframe tbody tr th {\n",
       "        vertical-align: top;\n",
       "    }\n",
       "\n",
       "    .dataframe thead th {\n",
       "        text-align: right;\n",
       "    }\n",
       "</style>\n",
       "<table border=\"1\" class=\"dataframe\">\n",
       "  <thead>\n",
       "    <tr style=\"text-align: right;\">\n",
       "      <th></th>\n",
       "      <th>max_len</th>\n",
       "      <th>total_length</th>\n",
       "      <th>total_messages</th>\n",
       "      <th>average_message_size</th>\n",
       "    </tr>\n",
       "    <tr>\n",
       "      <th>user_name</th>\n",
       "      <th></th>\n",
       "      <th></th>\n",
       "      <th></th>\n",
       "      <th></th>\n",
       "    </tr>\n",
       "  </thead>\n",
       "  <tbody>\n",
       "    <tr>\n",
       "      <th>Agentflow2</th>\n",
       "      <td>137</td>\n",
       "      <td>137</td>\n",
       "      <td>1</td>\n",
       "      <td>137.0</td>\n",
       "    </tr>\n",
       "    <tr>\n",
       "      <th>Eli.chen</th>\n",
       "      <td>15</td>\n",
       "      <td>15</td>\n",
       "      <td>1</td>\n",
       "      <td>15.0</td>\n",
       "    </tr>\n",
       "  </tbody>\n",
       "</table>\n",
       "</div>"
      ],
      "text/plain": [
       "            max_len  total_length  total_messages  average_message_size\n",
       "user_name                                                              \n",
       "Agentflow2      137           137               1                 137.0\n",
       "Eli.chen         15            15               1                  15.0"
      ]
     },
     "execution_count": 32,
     "metadata": {},
     "output_type": "execute_result"
    }
   ],
   "source": [
    "interactor.get_conversation_stats(data)"
   ]
  },
  {
   "cell_type": "code",
   "execution_count": 33,
   "id": "96c2c21b",
   "metadata": {},
   "outputs": [
    {
     "data": {
      "text/plain": [
       "{'channel': 'general',\n",
       " 'thread_ts': Timestamp('2024-08-02 18:09:15.892759085'),\n",
       " 'messages': [{'ts': Timestamp('2024-08-02 18:09:15.892759085'),\n",
       "   'user': 'Eli.chen',\n",
       "   'text': 'hello everyone. my name is Eli',\n",
       "   'is_bot': False},\n",
       "  {'ts': Timestamp('2024-08-02 18:11:58.436949015'),\n",
       "   'user': 'Agentflow2',\n",
       "   'text': \"Hello Eli! It's nice to meet you. How can I assist you today? Is there anything specific you'd like to discuss or any questions you have?\",\n",
       "   'is_bot': True},\n",
       "  {'ts': Timestamp('2024-08-02 18:12:34.472309113'),\n",
       "   'user': 'Eli.chen',\n",
       "   'text': 'tell me a joke!',\n",
       "   'is_bot': False}]}"
      ]
     },
     "execution_count": 33,
     "metadata": {},
     "output_type": "execute_result"
    }
   ],
   "source": [
    "threads[0]"
   ]
  },
  {
   "cell_type": "code",
   "execution_count": 38,
   "id": "20785dd6",
   "metadata": {},
   "outputs": [
    {
     "data": {
      "text/plain": [
       "\"Hello Eli! It's nice to meet you. How can I assist you today? Is there anything specific you'd like to discuss or any questions you have?\""
      ]
     },
     "execution_count": 38,
     "metadata": {},
     "output_type": "execute_result"
    }
   ],
   "source": [
    "from pandas import Timestamp\n",
    "\n",
    "llm_interactor = LLMInteractor()\n",
    "thread = {'channel': 'general',\n",
    "  'thread_ts': Timestamp('2024-08-01 23:18:53.991878986'),\n",
    "  'messages': [{'ts': Timestamp('2024-08-01 23:18:53.991878986'),\n",
    "    'user': 'Eli.chen',\n",
    "    'text': 'hello everyone. my name is Eli',\n",
    "    'is_bot': False}]}\n",
    "# thread = threads[0]\n",
    "guideline_prompt = \"Please provide a helpful and concise response to the conversation above.\"\n",
    "response = llm_interactor.generate_thread_response(thread, guideline_prompt)\n",
    "response"
   ]
  },
  {
   "cell_type": "code",
   "execution_count": 36,
   "id": "3ca52bc5",
   "metadata": {},
   "outputs": [
    {
     "name": "stdout",
     "output_type": "stream",
     "text": [
      "Posted reply to thread 1722622155.892759 in channel general\n"
     ]
    },
    {
     "data": {
      "text/plain": [
       "<slack_sdk.web.slack_response.SlackResponse at 0x7fc702051db0>"
      ]
     },
     "execution_count": 36,
     "metadata": {},
     "output_type": "execute_result"
    }
   ],
   "source": [
    "interactor.post_thread_reply(thread, response)"
   ]
  }
 ],
 "metadata": {
  "kernelspec": {
   "display_name": "Python 3 (ipykernel)",
   "language": "python",
   "name": "python3"
  },
  "language_info": {
   "codemirror_mode": {
    "name": "ipython",
    "version": 3
   },
   "file_extension": ".py",
   "mimetype": "text/x-python",
   "name": "python",
   "nbconvert_exporter": "python",
   "pygments_lexer": "ipython3",
   "version": "3.10.12"
  }
 },
 "nbformat": 4,
 "nbformat_minor": 5
}
