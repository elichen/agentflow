{
 "cells": [
  {
   "cell_type": "code",
   "execution_count": 65,
   "id": "7ea06646",
   "metadata": {},
   "outputs": [
    {
     "name": "stdout",
     "output_type": "stream",
     "text": [
      "The autoreload extension is already loaded. To reload it, use:\n",
      "  %reload_ext autoreload\n"
     ]
    }
   ],
   "source": [
    "%load_ext autoreload\n",
    "%autoreload 2\n",
    "from slack import SlackInteractor\n",
    "from llm import LLMInteractor"
   ]
  },
  {
   "cell_type": "code",
   "execution_count": 66,
   "id": "f4d2c5dc",
   "metadata": {},
   "outputs": [
    {
     "name": "stdout",
     "output_type": "stream",
     "text": [
      "Set conversations_oldest to 1722399936.894109\n",
      "Loaded 35 old messages\n",
      "Found 0 new messages\n",
      "Updated complete_conversations.pkl with new messages\n"
     ]
    }
   ],
   "source": [
    "interactor = SlackInteractor()\n",
    "data = interactor.fetch_new_messages()"
   ]
  },
  {
   "cell_type": "code",
   "execution_count": 67,
   "id": "57980e4a",
   "metadata": {},
   "outputs": [],
   "source": [
    "threads = interactor.organize_threads(data)"
   ]
  },
  {
   "cell_type": "code",
   "execution_count": 68,
   "id": "3bc6b96a",
   "metadata": {},
   "outputs": [
    {
     "data": {
      "text/html": [
       "<div>\n",
       "<style scoped>\n",
       "    .dataframe tbody tr th:only-of-type {\n",
       "        vertical-align: middle;\n",
       "    }\n",
       "\n",
       "    .dataframe tbody tr th {\n",
       "        vertical-align: top;\n",
       "    }\n",
       "\n",
       "    .dataframe thead th {\n",
       "        text-align: right;\n",
       "    }\n",
       "</style>\n",
       "<table border=\"1\" class=\"dataframe\">\n",
       "  <thead>\n",
       "    <tr style=\"text-align: right;\">\n",
       "      <th></th>\n",
       "      <th>max_len</th>\n",
       "      <th>total_length</th>\n",
       "      <th>total_messages</th>\n",
       "      <th>average_message_size</th>\n",
       "    </tr>\n",
       "    <tr>\n",
       "      <th>user_name</th>\n",
       "      <th></th>\n",
       "      <th></th>\n",
       "      <th></th>\n",
       "      <th></th>\n",
       "    </tr>\n",
       "  </thead>\n",
       "  <tbody>\n",
       "  </tbody>\n",
       "</table>\n",
       "</div>"
      ],
      "text/plain": [
       "Empty DataFrame\n",
       "Columns: [max_len, total_length, total_messages, average_message_size]\n",
       "Index: []"
      ]
     },
     "execution_count": 68,
     "metadata": {},
     "output_type": "execute_result"
    }
   ],
   "source": [
    "interactor.get_conversation_stats(data)"
   ]
  },
  {
   "cell_type": "code",
   "execution_count": 84,
   "id": "20785dd6",
   "metadata": {},
   "outputs": [
    {
     "data": {
      "text/plain": [
       "{'new_items': ['Based on the given conversation, here are the new action items identified:',\n",
       "  '',\n",
       "  \"1. Provide an opinion on San Francisco (SF) as a location for the team's offsite event.\",\n",
       "  '',\n",
       "  \"The human has requested the assistant's thoughts on choosing San Francisco for the team's offsite gathering.\"],\n",
       " 'reminders': \"Hi there!\\n\\nI hope your planning for the team offsite is going well. I just wanted to gently remind you that you had asked for my opinion on San Francisco as the location. No pressure at all, but if you're still interested in my thoughts, I'm happy to share them. \\n\\nWhenever you have a moment, feel free to let me know and I'll provide my perspective on SF as an option. In the meantime, I hope the offsite planning is enjoyable and not too stressful. \\n\\nKeep up the great work! Let me know if there's anything else I can assist with.\\n\\nBest regards,\\nClaude\"}"
      ]
     },
     "execution_count": 84,
     "metadata": {},
     "output_type": "execute_result"
    }
   ],
   "source": [
    "from pandas import Timestamp\n",
    "\n",
    "llm_interactor = LLMInteractor()\n",
    "thread = {'channel': 'general',\n",
    "  'thread_ts': Timestamp('2024-08-01 23:18:53.991878986'),\n",
    "  'messages': [{'ts': Timestamp('2024-08-01 23:18:53.991878986'),\n",
    "    'user': 'Eli.chen',\n",
    "    'text': 'Can you let me know what you think of SF for our offsite everyone?',\n",
    "    'is_bot': False,\n",
    "    'minutes_ago': 1}]}\n",
    "response = llm_interactor.review_and_remind(thread)\n",
    "response"
   ]
  },
  {
   "cell_type": "code",
   "execution_count": 58,
   "id": "f445a8d2",
   "metadata": {},
   "outputs": [
    {
     "name": "stdout",
     "output_type": "stream",
     "text": [
      "Posted reply to thread 1722632063.551869 in channel general\n",
      "Posted reply to thread 1722632067.855989 in channel general\n"
     ]
    }
   ],
   "source": [
    "for thread in threads:\n",
    "    if not thread['messages'][-1]['is_bot']:\n",
    "        response = llm_interactor.generate_thread_response(thread, guideline_prompt)\n",
    "        interactor.post_thread_reply(thread, response)"
   ]
  }
 ],
 "metadata": {
  "kernelspec": {
   "display_name": "Python 3 (ipykernel)",
   "language": "python",
   "name": "python3"
  },
  "language_info": {
   "codemirror_mode": {
    "name": "ipython",
    "version": 3
   },
   "file_extension": ".py",
   "mimetype": "text/x-python",
   "name": "python",
   "nbconvert_exporter": "python",
   "pygments_lexer": "ipython3",
   "version": "3.10.12"
  }
 },
 "nbformat": 4,
 "nbformat_minor": 5
}
