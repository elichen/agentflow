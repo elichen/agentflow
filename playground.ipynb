{
 "cells": [
  {
   "cell_type": "code",
   "execution_count": 9,
   "id": "7ea06646",
   "metadata": {},
   "outputs": [
    {
     "name": "stdout",
     "output_type": "stream",
     "text": [
      "The autoreload extension is already loaded. To reload it, use:\n",
      "  %reload_ext autoreload\n"
     ]
    }
   ],
   "source": [
    "%load_ext autoreload\n",
    "%autoreload 2\n",
    "import sys\n",
    "import os\n",
    "sys.path.append(os.path.join(os.getcwd(), 'src'))"
   ]
  },
  {
   "cell_type": "code",
   "execution_count": 10,
   "id": "48188838",
   "metadata": {},
   "outputs": [],
   "source": [
    "from slack_interactor import SlackInteractor\n",
    "from claude_llm import ClaudeLLM\n",
    "from db import ActionDatabase\n",
    "from config import CONFIG\n",
    "from agent_interface import BaseAgent\n",
    "from project_manager_agent import ProjectManagerAgent\n",
    "from sarcastic_agent import SarcasticAgent\n",
    "from paul_graham_agent import PaulGrahamAgent  # Add this import\n",
    "from drunk_agent import DrunkAgent\n",
    "from runner import process_threads, execute_due_actions"
   ]
  },
  {
   "cell_type": "code",
   "execution_count": 11,
   "id": "f2a392b8",
   "metadata": {},
   "outputs": [],
   "source": [
    "workspaces = CONFIG['workspaces']\n",
    "slack_interactors = {\n",
    "    workspace_config['name']: SlackInteractor(workspace_config)\n",
    "    for _, workspace_config in workspaces.items()\n",
    "}\n",
    "\n",
    "agents = {}\n",
    "for _, workspace_config in workspaces.items():\n",
    "    workspace_name = workspace_config['name']\n",
    "    slack_interactor = slack_interactors[workspace_name]\n",
    "    action_db = ActionDatabase(workspace_name)\n",
    "    agents[workspace_name] = []\n",
    "    \n",
    "    agent_classes = {\n",
    "        'ProjectManagerAgent': ProjectManagerAgent,\n",
    "        'SarcasticAgent': SarcasticAgent,\n",
    "        'PaulGrahamAgent': PaulGrahamAgent,\n",
    "        'DrunkAgent': DrunkAgent\n",
    "    }\n",
    "    \n",
    "    for agent_name in workspace_config.get('agents', []):\n",
    "        if agent_name in agent_classes:\n",
    "            agent_class = agent_classes[agent_name]\n",
    "            agent = agent_class(\"claude\", action_db, slack_interactor, workspace_name=workspace_name)\n",
    "            agents[workspace_name].append(agent)\n",
    "        else:\n",
    "            print(f\"Warning: Unknown agent type '{agent_name}' for workspace '{workspace_name}'\")"
   ]
  },
  {
   "cell_type": "code",
   "execution_count": 12,
   "id": "f445a8d2",
   "metadata": {
    "scrolled": false
   },
   "outputs": [
    {
     "name": "stdout",
     "output_type": "stream",
     "text": [
      "\n",
      "Fetching new messages for workspace: agentflow\n",
      "Set conversations_oldest to 1722399936.894109\n",
      "Loaded 554 old messages\n",
      "Found 4 new messages\n",
      "Updated complete_conversations_agentflow.pkl with new messages\n",
      "Found 0 threads with new user messages in agentflow.\n",
      "\n",
      "Checking for due actions in agentflow...\n",
      "\n",
      "Fetching new messages for workspace: legal flow\n",
      "Set conversations_oldest to 1724897852.811579\n",
      "Loaded 27 old messages\n",
      "Found 1 new messages\n",
      "Updated complete_conversations_legal flow.pkl with new messages\n",
      "Rate limited. Retrying in 1.39 seconds (attempt 1/10)\n",
      "Found 1 threads with new user messages in legal flow.\n",
      "\n",
      "==================================================\n",
      "Processing thread in channel: agent-chat\n",
      "Thread timestamp: 2024-08-29 02:20:34.838139057\n",
      "Last message content:\n",
      "hi\n",
      "Claude claude-3-opus-20240229 prompt:\n",
      "\n",
      "        You are an AI agent bot named Agentflow with the following characteristics:\n",
      "        Personality: Professional and efficient\n",
      "        Goal: Close the loop on open items, nudging and reminding people when necessary. Strive to not be very chatty, and only chime in efficiently.\n",
      "        Username: PM Agent\n",
      "\n",
      "        Analyze the following conversation carefully. Consider the entire thread history when making decisions. Determine if any immediate action is needed or if a delayed task should be scheduled. Consider the following:\n",
      "\n",
      "        1. Immediate actions: Tasks that need to be done right away based on the conversation context.\n",
      "        2. Delayed tasks: Any task that needs to be performed in the future, including check-ins, reminders, or scheduled actions.\n",
      "\n",
      "        For immediate actions, generate a response that is:\n",
      "        - Brief and to the point\n",
      "        - In a conversational tone\n",
      "        - Without a formal letter structure or signature\n",
      "        - Including an emoji or two if appropriate\n",
      "        - Directly addressing the action without unnecessary formalities\n",
      "\n",
      "        Provide a JSON response with the following structure:\n",
      "        {\n",
      "            \"immediate_action\": {\n",
      "                \"needed\": boolean,\n",
      "                \"description\": \"Description of the immediate action (if needed)\",\n",
      "                \"response\": \"The generated response for the immediate action\",\n",
      "                \"execution_time\": \"Immediately\"\n",
      "            },\n",
      "            \"delayed_action\": {\n",
      "                \"needed\": boolean,\n",
      "                \"description\": \"Description of the delayed task, including check-ins or scheduled actions\",\n",
      "                \"execution_time\": \"When to perform the task (use only these formats: '5 minutes', '2 hours', '1 day', '9am tomorrow', or 'daily at 9am')\"\n",
      "            }\n",
      "        }\n",
      "\n",
      "        If you feel that responding would be inappropriate or goes against your personality or goals, set both \"needed\" fields to false.\n",
      "\n",
      "        Conversation:\n",
      "        Human Eli chen (8352 minutes ago): hi @Agentflow!\n",
      "Bot PM Agent (8352 minutes ago): Hello Eli! :wave: How can I assist you today?\n",
      "Bot Sarcastic Agent (8352 minutes ago): Oh joy, another human has descended from on high to grace me with their presence! :unamused: To what do I owe this immense honor?\n",
      "Bot Paul Graham (8352 minutes ago): Hey Eli! :wave: What brings you my way today? I'm always eager to dive into fascinating discussions about startups and technology. :rocket:\n",
      "Bot Paul Graham (8351 minutes ago): Great to see you, Eli! :raising_hand: I'm always excited to explore topics around startups and innovation. What's on your mind? I'm all ears and ready to dive in! :thinking_face:\n",
      "Bot Paul Graham (8345 minutes ago): Hey Eli, great to connect! :wave: I'm excited to hear what's on your mind regarding startups and tech. What specific topics or questions did you want to explore? I'm all ears! :thinking_face:\n",
      "Bot Paul Graham (8340 minutes ago): Eli, I'm intrigued! :thinking_face: I've asked a few times what's on your mind regarding startups and tech, but haven't heard back yet. I'm still here and eager to dive into whatever fascinating topic you want to explore. What specific questions or ideas did you want to discuss? :bulb:\n",
      "Bot PM Agent (8334 minutes ago): Hey Eli, just checking in :eyes: Did you have a specific question or topic in mind you wanted to discuss? Let me know, I'm here to help! :thumbsup:\n",
      "Bot Sarcastic Agent (8334 minutes ago): Wow, the suspense is killing me! I'm just dying to know what earth-shattering insights you have to share. Or maybe you've realized your ideas aren't quite as brilliant as you thought? :thinking_face::bulb:\n",
      "Bot Paul Graham (8334 minutes ago): Hey Eli, I've reached out a few times but haven't heard back from you yet. :slightly_smiling_face: I'm genuinely curious to hear your thoughts on startups and tech! Feel free to share whatever's on your mind, no matter how early stage or unconventional the idea might be. I'm here to listen, provide insights, and explore the topic together. :bulb:\n",
      "Human Eli chen (8097 minutes ago): tell me a joke tomorrow\n",
      "Human Eli chen (0 minutes ago): hi\n",
      "\n",
      "        JSON response:\n",
      "        \n",
      "response:\n",
      "Message(id='msg_01HSP5k3mnMyYv1YWuN9p1Rw', content=[TextBlock(text='{\\n    \"immediate_action\": {\\n        \"needed\": true,\\n        \"description\": \"Greet Eli and ask if they still want to hear a joke\",\\n        \"response\": \"Hi Eli! 👋 You had mentioned wanting to hear a joke today. Are you still up for a good laugh? 😄 Let me know and I\\'ll share one with you!\",\\n        \"execution_time\": \"Immediately\"\\n    },\\n    \"delayed_action\": {\\n        \"needed\": false,\\n        \"description\": \"\",\\n        \"execution_time\": \"\"\\n    }\\n}', type='text')], model='claude-3-opus-20240229', role='assistant', stop_reason='end_turn', stop_sequence=None, type='message', usage=Usage(input_tokens=1007, output_tokens=138))\n",
      "Posted reply to thread 2024-08-29 02:20:34.838139057 in channel agent-chat\n",
      "\n",
      "Executed immediate action for PM Agent: Executed immediate action: Greet Eli and ask if they still want to hear a joke\n",
      "==================================================\n",
      "\n",
      "\n",
      "Checking for due actions in legal flow...\n"
     ]
    }
   ],
   "source": [
    "for workspace_name, slack_interactor in slack_interactors.items():\n",
    "    print(f\"\\nFetching new messages for workspace: {workspace_name}\")\n",
    "    data = slack_interactor.fetch_new_user_messages()\n",
    "    threads = slack_interactor.organize_threads(data)\n",
    "    print(f\"Found {len(threads)} threads with new user messages in {workspace_name}.\")\n",
    "\n",
    "    if not slack_interactor.is_first_run:\n",
    "        results = process_threads(agents[workspace_name], threads)\n",
    "        print(f\"\\nChecking for due actions in {workspace_name}...\")\n",
    "        execute_due_actions(agents[workspace_name])\n",
    "    else:\n",
    "        print(f\"First run for {workspace_name}. Skipping thread processing and due actions.\")\n",
    "        slack_interactor.is_first_run = False"
   ]
  }
 ],
 "metadata": {
  "kernelspec": {
   "display_name": "Python 3 (ipykernel)",
   "language": "python",
   "name": "python3"
  },
  "language_info": {
   "codemirror_mode": {
    "name": "ipython",
    "version": 3
   },
   "file_extension": ".py",
   "mimetype": "text/x-python",
   "name": "python",
   "nbconvert_exporter": "python",
   "pygments_lexer": "ipython3",
   "version": "3.10.12"
  }
 },
 "nbformat": 4,
 "nbformat_minor": 5
}
