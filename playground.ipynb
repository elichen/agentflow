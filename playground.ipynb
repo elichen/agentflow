{
 "cells": [
  {
   "cell_type": "code",
   "execution_count": 141,
   "id": "7ea06646",
   "metadata": {},
   "outputs": [
    {
     "name": "stdout",
     "output_type": "stream",
     "text": [
      "The autoreload extension is already loaded. To reload it, use:\n",
      "  %reload_ext autoreload\n"
     ]
    }
   ],
   "source": [
    "%load_ext autoreload\n",
    "%autoreload 2"
   ]
  },
  {
   "cell_type": "code",
   "execution_count": 142,
   "id": "48188838",
   "metadata": {},
   "outputs": [],
   "source": [
    "from slack import SlackInteractor\n",
    "from claude_llm import ClaudeLLM\n",
    "from project_manager_agent import ProjectManagerAgent\n",
    "from sarcastic_meme_agent import SarcasticMemeAgent\n",
    "from db import ActionDatabase"
   ]
  },
  {
   "cell_type": "code",
   "execution_count": 143,
   "id": "f2a392b8",
   "metadata": {},
   "outputs": [],
   "source": [
    "slack_interactor = SlackInteractor()\n",
    "llm = ClaudeLLM()\n",
    "action_db = ActionDatabase()\n",
    "project_manager = ProjectManagerAgent(llm, action_db, slack_interactor)\n",
    "sarcastic_meme_agent = SarcasticMemeAgent(llm, action_db, slack_interactor)"
   ]
  },
  {
   "cell_type": "code",
   "execution_count": 144,
   "id": "f445a8d2",
   "metadata": {},
   "outputs": [
    {
     "name": "stdout",
     "output_type": "stream",
     "text": [
      "\n",
      "Fetching new messages...\n",
      "Set conversations_oldest to 1722399936.894109\n",
      "Loaded 236 old messages\n",
      "Found 1 new messages\n",
      "Updated complete_conversations.pkl with new messages\n",
      "Found 1 threads with new messages.\n",
      "\n",
      "==================================================\n",
      "Processing thread in channel: agentflow\n",
      "Thread timestamp: 2024-08-12 22:43:44.565398932\n",
      "Last message content:\n",
      "ugh. lame\n",
      "Posted reply to thread 2024-08-12 22:43:44.565398932 in channel agentflow\n",
      "\n",
      "Executed immediate action: Executed immediate action: Apologize for continuing to send jokes after being asked to stop and assure the human that no more unsolicited jokes will be sent going forward.\n",
      "Posted reply to thread 2024-08-12 22:43:44.565398932 in channel agentflow\n",
      "\n",
      "Executed sarcastic/meme action: Executed sarcasm action: Wow, you're right, I just can'...\n",
      "==================================================\n",
      "\n",
      "\n",
      "Checking for due actions...\n"
     ]
    }
   ],
   "source": [
    "print(\"\\nFetching new messages...\")\n",
    "data = slack_interactor.fetch_new_messages()\n",
    "threads = slack_interactor.organize_threads(data)\n",
    "print(f\"Found {len(threads)} threads with new messages.\")\n",
    "\n",
    "results = process_threads(project_manager, sarcastic_meme_agent, threads)\n",
    "\n",
    "print(\"\\nChecking for due actions...\")\n",
    "execute_due_actions(project_manager)"
   ]
  },
  {
   "cell_type": "code",
   "execution_count": null,
   "id": "276ff717",
   "metadata": {},
   "outputs": [],
   "source": []
  }
 ],
 "metadata": {
  "kernelspec": {
   "display_name": "Python 3 (ipykernel)",
   "language": "python",
   "name": "python3"
  },
  "language_info": {
   "codemirror_mode": {
    "name": "ipython",
    "version": 3
   },
   "file_extension": ".py",
   "mimetype": "text/x-python",
   "name": "python",
   "nbconvert_exporter": "python",
   "pygments_lexer": "ipython3",
   "version": "3.10.12"
  }
 },
 "nbformat": 4,
 "nbformat_minor": 5
}
