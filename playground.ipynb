{
 "cells": [
  {
   "cell_type": "code",
   "execution_count": 116,
   "id": "7ea06646",
   "metadata": {},
   "outputs": [
    {
     "name": "stdout",
     "output_type": "stream",
     "text": [
      "The autoreload extension is already loaded. To reload it, use:\n",
      "  %reload_ext autoreload\n"
     ]
    }
   ],
   "source": [
    "%load_ext autoreload\n",
    "%autoreload 2\n",
    "from slack import SlackInteractor\n",
    "from llm import LLMInteractor\n",
    "from runner import process_threads, check_and_post_reminders"
   ]
  },
  {
   "cell_type": "code",
   "execution_count": 161,
   "id": "f2a392b8",
   "metadata": {},
   "outputs": [],
   "source": [
    "slack_interactor = SlackInteractor()\n",
    "llm_interactor = LLMInteractor()"
   ]
  },
  {
   "cell_type": "code",
   "execution_count": 162,
   "id": "f445a8d2",
   "metadata": {},
   "outputs": [
    {
     "name": "stdout",
     "output_type": "stream",
     "text": [
      "\n",
      "Fetching new messages...\n",
      "Set conversations_oldest to 1722399936.894109\n",
      "Loaded 87 old messages\n",
      "Found 0 new messages\n",
      "Updated complete_conversations.pkl with new messages\n",
      "Found 0 threads with new messages.\n",
      "\n",
      "Checking for due items and posting reminders...\n"
     ]
    }
   ],
   "source": [
    "print(\"\\nFetching new messages...\")\n",
    "data = slack_interactor.fetch_new_messages()\n",
    "threads = slack_interactor.organize_threads(data)\n",
    "print(f\"Found {len(threads)} threads with new messages.\")\n",
    "\n",
    "results = process_threads(slack_interactor, llm_interactor, threads)\n",
    "\n",
    "print(\"\\nChecking for due items and posting reminders...\")\n",
    "check_and_post_reminders(slack_interactor, llm_interactor)"
   ]
  },
  {
   "cell_type": "code",
   "execution_count": null,
   "id": "276ff717",
   "metadata": {},
   "outputs": [],
   "source": []
  }
 ],
 "metadata": {
  "kernelspec": {
   "display_name": "Python 3 (ipykernel)",
   "language": "python",
   "name": "python3"
  },
  "language_info": {
   "codemirror_mode": {
    "name": "ipython",
    "version": 3
   },
   "file_extension": ".py",
   "mimetype": "text/x-python",
   "name": "python",
   "nbconvert_exporter": "python",
   "pygments_lexer": "ipython3",
   "version": "3.10.12"
  }
 },
 "nbformat": 4,
 "nbformat_minor": 5
}
