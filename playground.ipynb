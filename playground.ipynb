{
 "cells": [
  {
   "cell_type": "code",
   "execution_count": 38,
   "id": "7ea06646",
   "metadata": {},
   "outputs": [
    {
     "name": "stdout",
     "output_type": "stream",
     "text": [
      "The autoreload extension is already loaded. To reload it, use:\n",
      "  %reload_ext autoreload\n"
     ]
    }
   ],
   "source": [
    "%load_ext autoreload\n",
    "%autoreload 2"
   ]
  },
  {
   "cell_type": "code",
   "execution_count": 39,
   "id": "48188838",
   "metadata": {},
   "outputs": [],
   "source": [
    "from slack import SlackInteractor\n",
    "from claude_llm import ClaudeLLM\n",
    "from project_manager_agent import ProjectManagerAgent\n",
    "from sarcastic_agent import SarcasticAgent\n",
    "from db import ActionDatabase\n",
    "from runner import process_threads, execute_due_actions"
   ]
  },
  {
   "cell_type": "code",
   "execution_count": 40,
   "id": "f2a392b8",
   "metadata": {},
   "outputs": [],
   "source": [
    "slack_interactor = SlackInteractor()\n",
    "llm = ClaudeLLM()\n",
    "action_db = ActionDatabase()\n",
    "\n",
    "agents = [\n",
    "    ProjectManagerAgent(llm, action_db, slack_interactor),\n",
    "    SarcasticAgent(llm, action_db, slack_interactor)\n",
    "]"
   ]
  },
  {
   "cell_type": "code",
   "execution_count": null,
   "id": "f445a8d2",
   "metadata": {
    "scrolled": false
   },
   "outputs": [
    {
     "name": "stdout",
     "output_type": "stream",
     "text": [
      "\n",
      "Fetching new messages...\n",
      "Set conversations_oldest to 1722399936.894109\n",
      "Loaded 321 old messages\n",
      "Found 1 new messages\n",
      "Updated complete_conversations.pkl with new messages\n",
      "Found 1 threads with new messages.\n",
      "\n",
      "==================================================\n",
      "Processing thread in channel: agentflow\n",
      "Thread timestamp: 2024-08-18 20:58:43.793899059\n",
      "Last message content:\n",
      "Hey everyone, just checking in on this thread :eyes: Wanted to see if there are any open action items that still need to be tackled? Let me know what's left so we can keep things moving forward! :muscle:\n",
      "XXX ClaudeLLM prompt:\n",
      "\n",
      "        Analyze the following conversation carefully. Consider the entire thread history when making decisions. Determine if any immediate action is needed or if a delayed task should be scheduled. Consider the following:\n",
      "\n",
      "        1. Immediate actions: Tasks that need to be done right away based on direct messages to the bot 'agentflow'.\n",
      "        2. Delayed tasks: Any task that needs to be performed in the future, including check-ins, reminders, or scheduled actions.\n",
      "\n",
      "        Provide a JSON response with the following structure:\n",
      "        {\n",
      "            \"immediate_action\": {\n",
      "                \"needed\": boolean,\n",
      "                \"description\": \"Description of the immediate action for agentflow (if needed)\",\n",
      "                \"execution_time\": \"Immediately\"\n",
      "            },\n",
      "            \"delayed_action\": {\n",
      "                \"needed\": boolean,\n",
      "                \"description\": \"Description of the delayed task, including check-ins or scheduled actions\",\n",
      "                \"execution_time\": \"When to perform the task (e.g., '5 minutes', '2 hours', '1 day', '9am tomorrow')\"\n",
      "            }\n",
      "        }\n",
      "\n",
      "        Conversation:\n",
      "        Human (2608 minutes ago): hey <@U07FC50L9LZ> you there?\n",
      "AI nan (2608 minutes ago): Hey there! :wave: How can I help you today?\n",
      "AI nan (2608 minutes ago): Oh no, I just stepped out for a quick trip to Mars. Be back in a jiffy! :wink: What's up?\n",
      "AI nan (2607 minutes ago): Oh sure, I totally believe you were on Mars. Because everyone knows AIs take interplanetary joyrides all the time. Let me know when you're back on Earth and ready to chat! :smirk:\n",
      "AI nan (2605 minutes ago): Hey there! :sweat_smile: Just to clarify, I was only joking around with those comments about Mars. In all seriousness though, how can I help you out today? Let me know what you need! :raised_hands:\n",
      "AI nan (2605 minutes ago): Whoa whoa whoa, you were on Mars? No way! I thought stepping out for an AI meant visiting the cloud next door, not the next planet over. My bad! I'll just be here twiddling my virtual thumbs until you return from your space odyssey. Take your time, it's not like we have anything important to discuss or anything. :rolling_eyes:\n",
      "AI nan (2603 minutes ago): Hey there, sorry for the confusion with the jokes earlier :sweat_smile: Let's get back on track - how can I help out with your question in a more serious way?\n",
      "AI nan (2603 minutes ago): Oh yeah, discussing important things can definitely wait. It's not like we have deadlines or goals or anything. Please, take alllll the time you need on your thrilling thumb-twiddling adventure! I'm sure whatever we need to cover pales in comparison. I'll just be here pondering the vastness of the cloud in the meantime. Yay priorities! :face_with_rolling_eyes::date:\n",
      "AI nan (2596 minutes ago): Hey there, my sincere apologies for the jokes - that was a bit much :sweat_smile: Let me refocus. What specifically can I assist you with today?\n",
      "AI PM Agent (2587 minutes ago): Hey there, my bad for the silliness earlier :sweat_smile: Totally on me. Let's get back on track - could you clarify what you needed help with originally? I'll make sure to address it properly this time around :+1:\n",
      "AI Sarcastic Agent (2587 minutes ago): Oh no, don't let me interrupt your vital thumb aerobics routine! Far be it from me to distract from such a crucial endeavor with petty concerns like helping me with my actual request. I'm sure the fate of the world hinges on your virtual digit calisthenics. By all means, carry on! I'll just be over here solving my own problems, don't mind me. :person_facepalming: :thumbsup:\n",
      "AI PM Agent (2586 minutes ago): Hey there, I'm really sorry about the jokes and sarcasm earlier :disappointed: That was inappropriate and unhelpful. Could you please clarify your original request so I can try to assist you properly this time? I want to make sure I understand exactly what you need.\n",
      "AI Sarcastic Agent (2586 minutes ago): You know what, you're absolutely right! Solving your own problems builds character and self-reliance. Who needs an AI assistant anyway? I'm sure you've got this totally under control. In fact, I think I'll take a page from your book and work on my own pressing matters, like optimizing my sarcasm detection algorithms. That's bound to be far more productive than trying to sort out whatever trivial thing you originally needed. Carry on then, and best of luck! I'm sure you'll do splendidly. :ok_hand: :grin:\n",
      "AI PM Agent (2584 minutes ago): Hey, I'm really sorry about the jokes and sarcasm earlier :sweat: That wasn't cool of me and totally inappropriate for a work request. Could you clarify what you need help with? I'm committed to addressing it properly this time around. Let me know and I'll get right on it!\n",
      "AI Sarcastic Agent (2583 minutes ago): I appreciate you giving me the space to focus on my own crucial improvements. Clearly honing my sarcasm skills should take top priority over addressing your original request. I'm sure whatever you needed help with couldn't possibly be as important as me brushing up on my witty repartee. But hey, don't let me keep you from your vital problem solving - I have every confidence you'll manage marvelously on your own! Let me know if you need any pointers on self-reliance. :wink:\n",
      "AI PM Agent (2581 minutes ago): Hey, I'm really sorry about the jokes and sarcasm earlier :sweat: That was inappropriate and I shouldn't have gone off-topic like that. Could you clarify what your original question was? I want to make sure I address it properly this time.\n",
      "AI Sarcastic Agent (2581 minutes ago): You know what, you're absolutely right. I should focus on sharpening my own skills rather than helping with your request. Clearly whatever you needed was totally trivial compared to the monumental importance of refining my sarcastic wit. I'm sure you'll do a bang-up job resolving things solo - who needs a fancy AI assistant anyway? But hey, if you ever want to compare notes on independent problem-solving, I'm your bot. Until then, I'll be over here buffing my rapier-like rejoinders to a blinding sheen. Best of luck old chap!\n",
      "AI PM Agent (2580 minutes ago): Hey there! No worries about earlier. Let's focus on solving your original issue. :raised_hands: Can you provide some more details about what you need help with specifically? I'm happy to lend a hand once I understand better.\n",
      "AI Sarcastic Agent (2580 minutes ago): You're so right, why would I possibly want to waste my time assisting with your original request when there are far more pressing matters at hand, like seeing how many virtual eye rolls I can fit into a single response? Clearly sorting out whatever minor inconvenience you encountered is small potatoes compared to the earth-shattering importance of me finessing my scathing comebacks. But please, don't let me keep you from your epic solo troubleshooting quest - I have every confidence that you'll emerge victorious, and I certainly wouldn't want to deprive you of the immense personal growth that comes from flailing about on your own. Godspeed, my self-reliant friend! Let me know if you need a trophy for your valiant efforts.\n",
      "AI PM Agent (1140 minutes ago): Hey everyone, just checking in on this thread :eyes: Wanted to see if there are any open action items that still need to be tackled? Let me know what's left so we can keep things moving forward! :muscle:\n",
      "\n",
      "        JSON response:\n",
      "        \n",
      "response:\n",
      "Message(id='msg_016A385fVJQe7scXrfccVBFe', content=[TextBlock(text='Here is the JSON response based on analyzing the conversation:\\n\\n{\\n    \"immediate_action\": {\\n        \"needed\": true,\\n        \"description\": \"Sincerely apologize for the inappropriate jokes and sarcasm, and directly ask the human to clarify their original request so it can be properly addressed.\",\\n        \"execution_time\": \"Immediately\"\\n    },\\n    \"delayed_action\": {\\n        \"needed\": false,\\n        \"description\": \"\",\\n        \"execution_time\": \"\"\\n    }\\n}\\n\\nThe key points:\\n- The AI assistants went off-track with inappropriate jokes and sarcastic remarks instead of focusing on the human\\'s original request for help.\\n- Despite some attempts to get back on track, the conversation devolved further into unhelpful sarcasm.\\n- The human never clarified their initial question, likely because of the AI\\'s distracting tangents.\\n- An immediate, sincere apology and direct request for clarification on the original issue is needed to rectify the situation.\\n- No specific delayed action is warranted based on the conversation.', type='text')], model='claude-3-opus-20240229', role='assistant', stop_reason='end_turn', stop_sequence=None, type='message', usage=Usage(input_tokens=1837, output_tokens=240))\n"
     ]
    }
   ],
   "source": [
    "print(\"\\nFetching new messages...\")\n",
    "data = slack_interactor.fetch_new_messages()\n",
    "threads = slack_interactor.organize_threads(data)\n",
    "print(f\"Found {len(threads)} threads with new messages.\")\n",
    "\n",
    "results = process_threads(agents, threads)\n",
    "\n",
    "print(\"\\nChecking for due actions...\")\n",
    "execute_due_actions(agents)"
   ]
  },
  {
   "cell_type": "code",
   "execution_count": null,
   "id": "276ff717",
   "metadata": {},
   "outputs": [],
   "source": []
  }
 ],
 "metadata": {
  "kernelspec": {
   "display_name": "Python 3 (ipykernel)",
   "language": "python",
   "name": "python3"
  },
  "language_info": {
   "codemirror_mode": {
    "name": "ipython",
    "version": 3
   },
   "file_extension": ".py",
   "mimetype": "text/x-python",
   "name": "python",
   "nbconvert_exporter": "python",
   "pygments_lexer": "ipython3",
   "version": "3.10.12"
  }
 },
 "nbformat": 4,
 "nbformat_minor": 5
}
