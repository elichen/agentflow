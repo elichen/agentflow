{
 "cells": [
  {
   "cell_type": "code",
   "execution_count": 27,
   "id": "7ea06646",
   "metadata": {},
   "outputs": [
    {
     "name": "stdout",
     "output_type": "stream",
     "text": [
      "The autoreload extension is already loaded. To reload it, use:\n",
      "  %reload_ext autoreload\n"
     ]
    }
   ],
   "source": [
    "%load_ext autoreload\n",
    "%autoreload 2\n",
    "from slack import SlackInteractor\n",
    "from llm import LLMInteractor\n",
    "from runner import process_threads"
   ]
  },
  {
   "cell_type": "code",
   "execution_count": 28,
   "id": "f2a392b8",
   "metadata": {},
   "outputs": [],
   "source": [
    "slack_interactor = SlackInteractor()\n",
    "llm_interactor = LLMInteractor()"
   ]
  },
  {
   "cell_type": "code",
   "execution_count": 36,
   "id": "f445a8d2",
   "metadata": {},
   "outputs": [
    {
     "name": "stdout",
     "output_type": "stream",
     "text": [
      "Set conversations_oldest to 1722399936.894109\n",
      "Loaded 42 old messages\n",
      "Rate limited. Retrying in 1.70 seconds (attempt 1/5)\n",
      "Found 1 new messages\n",
      "Updated complete_conversations.pkl with new messages\n",
      "\n",
      "==================================================\n",
      "Reviewing thread in channel: general\n",
      "Thread timestamp: 2024-08-06 00:01:44.062058926\n",
      "Last message content:\n",
      "could everyone tell me here where you want our next offsite?\n",
      "Debug - Total completed items: 0\n",
      "Debug - Adding new item: Provide preference for location of next offsite (Assignee: Everyone)\n",
      "Debug - Total new items identified: 1\n",
      "\n",
      "Raw LLM Response:\n",
      "{\n",
      "  \"action_items\": [\n",
      "    {\n",
      "      \"description\": \"Provide preference for location of next offsite\",\n",
      "      \"assignee\": \"Everyone\"\n",
      "    }\n",
      "  ],\n",
      "  \"completed_tasks\": []\n",
      "}\n",
      "\n",
      "New action items identified: Provide preference for location of next offsite (Assignee: Everyone)\n",
      "Thread active within last 24 hours (last activity: 0 days 00:00:05.987942074 ago). No reminder sent.\n",
      "==================================================\n",
      "\n",
      "Thread in channel general:\n",
      "  New items: ['Provide preference for location of next offsite (Assignee: Everyone)']\n",
      "  Time since last activity: 0 days 00:00:05.987942074\n",
      "  Reminder sent: False\n",
      "  Reminder content: No reminders needed at this time.\n",
      "---\n"
     ]
    }
   ],
   "source": [
    "data = slack_interactor.fetch_new_messages()\n",
    "threads = slack_interactor.organize_threads(data)\n",
    "results = process_threads(slack_interactor, llm_interactor, threads)\n",
    "\n",
    "# Analyze the results\n",
    "for result in results:\n",
    "    print(f\"Thread in channel {result['channel']}:\")\n",
    "    print(f\"  New items: {result['new_items']}\")\n",
    "    print(f\"  Time since last activity: {result['time_since_last_activity']}\")\n",
    "    print(f\"  Reminder sent: {result['reminder_sent']}\")\n",
    "    print(f\"  Reminder content: {result['reminders']}\")\n",
    "    print(\"---\")"
   ]
  },
  {
   "cell_type": "code",
   "execution_count": 30,
   "id": "46e61dbf",
   "metadata": {},
   "outputs": [
    {
     "data": {
      "text/plain": [
       "[]"
      ]
     },
     "execution_count": 30,
     "metadata": {},
     "output_type": "execute_result"
    }
   ],
   "source": [
    "llm_interactor.action_db.get_all_open_thread_ids()"
   ]
  },
  {
   "cell_type": "code",
   "execution_count": 31,
   "id": "3bc6b96a",
   "metadata": {},
   "outputs": [
    {
     "data": {
      "text/html": [
       "<div>\n",
       "<style scoped>\n",
       "    .dataframe tbody tr th:only-of-type {\n",
       "        vertical-align: middle;\n",
       "    }\n",
       "\n",
       "    .dataframe tbody tr th {\n",
       "        vertical-align: top;\n",
       "    }\n",
       "\n",
       "    .dataframe thead th {\n",
       "        text-align: right;\n",
       "    }\n",
       "</style>\n",
       "<table border=\"1\" class=\"dataframe\">\n",
       "  <thead>\n",
       "    <tr style=\"text-align: right;\">\n",
       "      <th></th>\n",
       "      <th>max_len</th>\n",
       "      <th>total_length</th>\n",
       "      <th>total_messages</th>\n",
       "      <th>average_message_size</th>\n",
       "    </tr>\n",
       "    <tr>\n",
       "      <th>user_name</th>\n",
       "      <th></th>\n",
       "      <th></th>\n",
       "      <th></th>\n",
       "      <th></th>\n",
       "    </tr>\n",
       "  </thead>\n",
       "  <tbody>\n",
       "  </tbody>\n",
       "</table>\n",
       "</div>"
      ],
      "text/plain": [
       "Empty DataFrame\n",
       "Columns: [max_len, total_length, total_messages, average_message_size]\n",
       "Index: []"
      ]
     },
     "execution_count": 31,
     "metadata": {},
     "output_type": "execute_result"
    }
   ],
   "source": [
    "slack_interactor.get_conversation_stats(data)"
   ]
  }
 ],
 "metadata": {
  "kernelspec": {
   "display_name": "Python 3 (ipykernel)",
   "language": "python",
   "name": "python3"
  },
  "language_info": {
   "codemirror_mode": {
    "name": "ipython",
    "version": 3
   },
   "file_extension": ".py",
   "mimetype": "text/x-python",
   "name": "python",
   "nbconvert_exporter": "python",
   "pygments_lexer": "ipython3",
   "version": "3.10.12"
  }
 },
 "nbformat": 4,
 "nbformat_minor": 5
}
