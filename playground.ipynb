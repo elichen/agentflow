{
 "cells": [
  {
   "cell_type": "code",
   "execution_count": 85,
   "id": "7ea06646",
   "metadata": {},
   "outputs": [
    {
     "name": "stdout",
     "output_type": "stream",
     "text": [
      "The autoreload extension is already loaded. To reload it, use:\n",
      "  %reload_ext autoreload\n"
     ]
    }
   ],
   "source": [
    "%load_ext autoreload\n",
    "%autoreload 2\n",
    "from slack import SlackInteractor\n",
    "from llm import LLMInteractor\n",
    "from runner import process_threads, execute_due_actions"
   ]
  },
  {
   "cell_type": "code",
   "execution_count": 86,
   "id": "f2a392b8",
   "metadata": {},
   "outputs": [],
   "source": [
    "interactor = SlackInteractor()\n",
    "llm_interactor = LLMInteractor(interactor)"
   ]
  },
  {
   "cell_type": "code",
   "execution_count": 87,
   "id": "f445a8d2",
   "metadata": {},
   "outputs": [
    {
     "name": "stdout",
     "output_type": "stream",
     "text": [
      "\n",
      "Fetching new messages...\n",
      "Set conversations_oldest to 1722399936.894109\n",
      "Loaded 148 old messages\n",
      "Rate limited. Retrying in 1.73 seconds (attempt 1/5)\n",
      "Rate limited. Retrying in 2.48 seconds (attempt 2/5)\n",
      "Rate limited. Retrying in 4.09 seconds (attempt 3/5)\n",
      "Found 2 new messages\n",
      "Updated complete_conversations.pkl with new messages\n",
      "Found 2 threads with new messages.\n",
      "\n",
      "==================================================\n",
      "Processing thread in channel: general\n",
      "Thread timestamp: 2024-08-10 20:30:38.818439007\n",
      "Last message content:\n",
      "Hey folks! :eyes: Just checking to see if anyone's chimed in with a joke yet in response to the earlier request. Let me know!\n",
      "Debug - Added action due at: 2024-08-11 19:15:40.790339\n",
      "\n",
      "Raw LLM Response:\n",
      "{\n",
      "    \"immediate_action\": {\n",
      "        \"needed\": false,\n",
      "        \"description\": \"\",\n",
      "        \"execution_time\": \"\"\n",
      "    },\n",
      "    \"check_in\": {\n",
      "        \"needed\": true,\n",
      "        \"description\": \"Follow up to see if anyone has responded with a joke to the earlier request from the human.\",\n",
      "        \"execution_time\": \"2 hours\"\n",
      "    }\n",
      "}\n",
      "\n",
      "New action scheduled: Check-in: Follow up to see if anyone has responded with a joke to the earlier request from the human. (Execute at: 2024-08-11 19:15:40.790339)\n",
      "==================================================\n",
      "\n",
      "\n",
      "==================================================\n",
      "Processing thread in channel: agentflow\n",
      "Thread timestamp: 2024-08-10 20:37:30.774629116\n",
      "Last message content:\n",
      "Here's a quick poem for you! :robot_face::sparkles:\n",
      "\n",
      "I'm an AI, ready to assist\n",
      "Helping humans, top of my list\n",
      "Questions and tasks, I'm here to take\n",
      "Striving for excellence, no mistake\n",
      "Let me know what I can do\n",
      "I'll give my best to help you! :smile:\n",
      "\n",
      "How else can I lend a hand today?\n",
      "\n",
      "Raw LLM Response:\n",
      "{\n",
      "    \"immediate_action\": {\n",
      "        \"needed\": false,\n",
      "        \"description\": \"\",\n",
      "        \"execution_time\": \"\"\n",
      "    },\n",
      "    \"check_in\": {\n",
      "        \"needed\": false,\n",
      "        \"description\": \"\",\n",
      "        \"execution_time\": \"\"\n",
      "    }\n",
      "}\n",
      "\n",
      "No actions needed.\n",
      "==================================================\n",
      "\n",
      "\n",
      "Checking for due actions...\n"
     ]
    }
   ],
   "source": [
    "print(\"\\nFetching new messages...\")\n",
    "data = interactor.fetch_new_messages()\n",
    "threads = interactor.organize_threads(data)\n",
    "print(f\"Found {len(threads)} threads with new messages.\")\n",
    "\n",
    "results = process_threads(interactor, llm_interactor, threads)\n",
    "\n",
    "print(\"\\nChecking for due actions...\")\n",
    "execute_due_actions(interactor, llm_interactor)\n"
   ]
  },
  {
   "cell_type": "code",
   "execution_count": null,
   "id": "276ff717",
   "metadata": {},
   "outputs": [],
   "source": []
  }
 ],
 "metadata": {
  "kernelspec": {
   "display_name": "Python 3 (ipykernel)",
   "language": "python",
   "name": "python3"
  },
  "language_info": {
   "codemirror_mode": {
    "name": "ipython",
    "version": 3
   },
   "file_extension": ".py",
   "mimetype": "text/x-python",
   "name": "python",
   "nbconvert_exporter": "python",
   "pygments_lexer": "ipython3",
   "version": "3.10.12"
  }
 },
 "nbformat": 4,
 "nbformat_minor": 5
}
